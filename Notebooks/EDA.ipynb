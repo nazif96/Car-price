{
 "cells": [
  {
   "cell_type": "markdown",
   "metadata": {},
   "source": [
    "# Analyse exploratoire des données "
   ]
  },
  {
   "cell_type": "code",
   "execution_count": 2,
   "metadata": {},
   "outputs": [],
   "source": [
    "import os\n",
    "import pandas as pd\n",
    "import numpy as np  \n",
    "import seaborn as sns \n",
    "import plotly.express as px\n",
    "import matplotlib.pyplot as plt\n",
    "\n",
    "from pathlib import Path\n",
    " "
   ]
  },
  {
   "cell_type": "code",
   "execution_count": 5,
   "metadata": {},
   "outputs": [
    {
     "name": "stdout",
     "output_type": "stream",
     "text": [
      "BASE_DIR: C:\\Users\\NAZIFOU\\Car-price\n",
      "DATA_DIR: C:\\Users\\NAZIFOU\\Car-price\\Donnees\n"
     ]
    }
   ],
   "source": [
    "BASE_DIR = Path().resolve().parent\n",
    "DATA_DIR = BASE_DIR / 'Donnees'\n",
    "\n",
    "print(f\"BASE_DIR: {BASE_DIR}\")\n",
    "print(f\"DATA_DIR: {DATA_DIR}\")"
   ]
  },
  {
   "cell_type": "code",
   "execution_count": 6,
   "metadata": {},
   "outputs": [
    {
     "data": {
      "text/html": [
       "<div>\n",
       "<style scoped>\n",
       "    .dataframe tbody tr th:only-of-type {\n",
       "        vertical-align: middle;\n",
       "    }\n",
       "\n",
       "    .dataframe tbody tr th {\n",
       "        vertical-align: top;\n",
       "    }\n",
       "\n",
       "    .dataframe thead th {\n",
       "        text-align: right;\n",
       "    }\n",
       "</style>\n",
       "<table border=\"1\" class=\"dataframe\">\n",
       "  <thead>\n",
       "    <tr style=\"text-align: right;\">\n",
       "      <th></th>\n",
       "      <th>Modèle</th>\n",
       "      <th>Prix</th>\n",
       "      <th>Transmission</th>\n",
       "      <th>Version</th>\n",
       "      <th>Kilométrage</th>\n",
       "      <th>Carburant</th>\n",
       "      <th>Puissance</th>\n",
       "      <th>Évaluations</th>\n",
       "      <th>Vendeur</th>\n",
       "      <th>Nom de la Voiture</th>\n",
       "      <th>Date</th>\n",
       "    </tr>\n",
       "  </thead>\n",
       "  <tbody>\n",
       "    <tr>\n",
       "      <th>0</th>\n",
       "      <td>audi</td>\n",
       "      <td>€ 74 999</td>\n",
       "      <td>Boîte automatique</td>\n",
       "      <td>55 TFSI Quattro Tiptronic S-Line INDIVIDUAL!</td>\n",
       "      <td>34 000 km</td>\n",
       "      <td>Essence</td>\n",
       "      <td>250 kW (340 CH)</td>\n",
       "      <td>121</td>\n",
       "      <td>Kristof D'herde • BE-9300 Aalst</td>\n",
       "      <td>Audi Q855 TFSI Quattro Tiptronic S-Line INDIVI...</td>\n",
       "      <td>01/2021</td>\n",
       "    </tr>\n",
       "    <tr>\n",
       "      <th>1</th>\n",
       "      <td>audi</td>\n",
       "      <td>€ 118 900</td>\n",
       "      <td>Boîte automatique</td>\n",
       "      <td>60 Hybride 49 CO2 BlackPack B&amp;O 23' Leather</td>\n",
       "      <td>10 km</td>\n",
       "      <td>Electrique/Essence</td>\n",
       "      <td>340 kW (462 CH)</td>\n",
       "      <td>107</td>\n",
       "      <td>Frederik Rik Maxime Jorn Hendrik • BE-8710 Wie...</td>\n",
       "      <td>Audi Q860 Hybride 49 CO2 BlackPack B&amp;O 23' Lea...</td>\n",
       "      <td>01/2024</td>\n",
       "    </tr>\n",
       "    <tr>\n",
       "      <th>2</th>\n",
       "      <td>audi</td>\n",
       "      <td>€ 118 900</td>\n",
       "      <td>Boîte automatique</td>\n",
       "      <td>60 Hybr 49gr Sline BlackPack B&amp;O Leather 23'</td>\n",
       "      <td>10 km</td>\n",
       "      <td>Electrique/Essence</td>\n",
       "      <td>340 kW (462 CH)</td>\n",
       "      <td>107</td>\n",
       "      <td>Frederik Rik Maxime Jorn Hendrik • BE-8710 Wie...</td>\n",
       "      <td>Audi Q860 Hybr 49gr Sline BlackPack B&amp;O Leathe...</td>\n",
       "      <td>01/2024</td>\n",
       "    </tr>\n",
       "    <tr>\n",
       "      <th>3</th>\n",
       "      <td>audi</td>\n",
       "      <td>€ 59 995</td>\n",
       "      <td>Boîte automatique</td>\n",
       "      <td>50 TDi S-Line Quattro Tiptronic</td>\n",
       "      <td>95 702 km</td>\n",
       "      <td>Diesel</td>\n",
       "      <td>210 kW (286 CH)</td>\n",
       "      <td>75</td>\n",
       "      <td>Mhr Jannick Lazoore • BE-8620 Nieuwpoort</td>\n",
       "      <td>Audi Q850 TDi S-Line Quattro Tiptronic</td>\n",
       "      <td>04/2019</td>\n",
       "    </tr>\n",
       "    <tr>\n",
       "      <th>4</th>\n",
       "      <td>audi</td>\n",
       "      <td>€ 76 900</td>\n",
       "      <td>Boîte automatique</td>\n",
       "      <td>50 TDI quattro tiptronic competition plus! Full !</td>\n",
       "      <td>19 000 km</td>\n",
       "      <td>Diesel</td>\n",
       "      <td>210 kW (286 CH)</td>\n",
       "      <td>252</td>\n",
       "      <td>Sam B • BE-3970 Leopoldsburg</td>\n",
       "      <td>Audi Q850 TDI quattro tiptronic competition pl...</td>\n",
       "      <td>09/2022</td>\n",
       "    </tr>\n",
       "  </tbody>\n",
       "</table>\n",
       "</div>"
      ],
      "text/plain": [
       "  Modèle       Prix       Transmission  \\\n",
       "0   audi   € 74 999  Boîte automatique   \n",
       "1   audi  € 118 900  Boîte automatique   \n",
       "2   audi  € 118 900  Boîte automatique   \n",
       "3   audi   € 59 995  Boîte automatique   \n",
       "4   audi   € 76 900  Boîte automatique   \n",
       "\n",
       "                                             Version Kilométrage  \\\n",
       "0       55 TFSI Quattro Tiptronic S-Line INDIVIDUAL!   34 000 km   \n",
       "1        60 Hybride 49 CO2 BlackPack B&O 23' Leather       10 km   \n",
       "2       60 Hybr 49gr Sline BlackPack B&O Leather 23'       10 km   \n",
       "3                    50 TDi S-Line Quattro Tiptronic   95 702 km   \n",
       "4  50 TDI quattro tiptronic competition plus! Full !   19 000 km   \n",
       "\n",
       "            Carburant        Puissance Évaluations  \\\n",
       "0             Essence  250 kW (340 CH)         121   \n",
       "1  Electrique/Essence  340 kW (462 CH)         107   \n",
       "2  Electrique/Essence  340 kW (462 CH)         107   \n",
       "3              Diesel  210 kW (286 CH)          75   \n",
       "4              Diesel  210 kW (286 CH)         252   \n",
       "\n",
       "                                             Vendeur  \\\n",
       "0                    Kristof D'herde • BE-9300 Aalst   \n",
       "1  Frederik Rik Maxime Jorn Hendrik • BE-8710 Wie...   \n",
       "2  Frederik Rik Maxime Jorn Hendrik • BE-8710 Wie...   \n",
       "3           Mhr Jannick Lazoore • BE-8620 Nieuwpoort   \n",
       "4                       Sam B • BE-3970 Leopoldsburg   \n",
       "\n",
       "                                   Nom de la Voiture     Date  \n",
       "0  Audi Q855 TFSI Quattro Tiptronic S-Line INDIVI...  01/2021  \n",
       "1  Audi Q860 Hybride 49 CO2 BlackPack B&O 23' Lea...  01/2024  \n",
       "2  Audi Q860 Hybr 49gr Sline BlackPack B&O Leathe...  01/2024  \n",
       "3             Audi Q850 TDi S-Line Quattro Tiptronic  04/2019  \n",
       "4  Audi Q850 TDI quattro tiptronic competition pl...  09/2022  "
      ]
     },
     "execution_count": 6,
     "metadata": {},
     "output_type": "execute_result"
    }
   ],
   "source": [
    "df = pd.read_csv(DATA_DIR / 'vehicules.csv')\n",
    "df.head()"
   ]
  },
  {
   "cell_type": "code",
   "execution_count": 8,
   "metadata": {},
   "outputs": [
    {
     "data": {
      "text/plain": [
       "(2680, 11)"
      ]
     },
     "execution_count": 8,
     "metadata": {},
     "output_type": "execute_result"
    }
   ],
   "source": [
    "df.shape"
   ]
  },
  {
   "cell_type": "markdown",
   "metadata": {},
   "source": [
    "2680 lignes et 11 colonnes "
   ]
  },
  {
   "cell_type": "code",
   "execution_count": 7,
   "metadata": {},
   "outputs": [
    {
     "name": "stdout",
     "output_type": "stream",
     "text": [
      "<class 'pandas.core.frame.DataFrame'>\n",
      "RangeIndex: 2680 entries, 0 to 2679\n",
      "Data columns (total 11 columns):\n",
      " #   Column             Non-Null Count  Dtype \n",
      "---  ------             --------------  ----- \n",
      " 0   Modèle             2680 non-null   object\n",
      " 1   Prix               2680 non-null   object\n",
      " 2   Transmission       2680 non-null   object\n",
      " 3   Version            2660 non-null   object\n",
      " 4   Kilométrage        2680 non-null   object\n",
      " 5   Carburant          2680 non-null   object\n",
      " 6   Puissance          2680 non-null   object\n",
      " 7   Évaluations        2680 non-null   object\n",
      " 8   Vendeur            2680 non-null   object\n",
      " 9   Nom de la Voiture  2680 non-null   object\n",
      " 10  Date               2680 non-null   object\n",
      "dtypes: object(11)\n",
      "memory usage: 230.4+ KB\n"
     ]
    }
   ],
   "source": [
    "df.info()"
   ]
  },
  {
   "cell_type": "markdown",
   "metadata": {},
   "source": [
    "Structure générale\n",
    "- Nombre d’observations (lignes) : 2 680\n",
    "- Nombre de colonnes (variables) : 11\n",
    "- Index : de 0 à 2679 (RangeIndex par défaut)"
   ]
  },
  {
   "cell_type": "code",
   "execution_count": 13,
   "metadata": {},
   "outputs": [
    {
     "data": {
      "text/plain": [
       "Index(['modèle', 'prix', 'transmission', 'version', 'kilométrage', 'carburant',\n",
       "       'puissance', 'évaluations', 'vendeur', 'nom de la voiture', 'date'],\n",
       "      dtype='object')"
      ]
     },
     "execution_count": 13,
     "metadata": {},
     "output_type": "execute_result"
    }
   ],
   "source": [
    "df.columns = df.columns.str.lower()\n",
    "df.columns"
   ]
  },
  {
   "cell_type": "code",
   "execution_count": 14,
   "metadata": {},
   "outputs": [
    {
     "data": {
      "text/html": [
       "<div>\n",
       "<style scoped>\n",
       "    .dataframe tbody tr th:only-of-type {\n",
       "        vertical-align: middle;\n",
       "    }\n",
       "\n",
       "    .dataframe tbody tr th {\n",
       "        vertical-align: top;\n",
       "    }\n",
       "\n",
       "    .dataframe thead th {\n",
       "        text-align: right;\n",
       "    }\n",
       "</style>\n",
       "<table border=\"1\" class=\"dataframe\">\n",
       "  <thead>\n",
       "    <tr style=\"text-align: right;\">\n",
       "      <th></th>\n",
       "      <th>modèle</th>\n",
       "      <th>prix</th>\n",
       "      <th>transmission</th>\n",
       "      <th>version</th>\n",
       "      <th>kilométrage</th>\n",
       "      <th>carburant</th>\n",
       "      <th>puissance</th>\n",
       "      <th>évaluations</th>\n",
       "      <th>vendeur</th>\n",
       "      <th>nom de la voiture</th>\n",
       "      <th>date</th>\n",
       "    </tr>\n",
       "  </thead>\n",
       "  <tbody>\n",
       "    <tr>\n",
       "      <th>0</th>\n",
       "      <td>0</td>\n",
       "      <td>0</td>\n",
       "      <td>0</td>\n",
       "      <td>20</td>\n",
       "      <td>0</td>\n",
       "      <td>0</td>\n",
       "      <td>0</td>\n",
       "      <td>0</td>\n",
       "      <td>0</td>\n",
       "      <td>0</td>\n",
       "      <td>0</td>\n",
       "    </tr>\n",
       "  </tbody>\n",
       "</table>\n",
       "</div>"
      ],
      "text/plain": [
       "   modèle  prix  transmission  version  kilométrage  carburant  puissance  \\\n",
       "0       0     0             0       20            0          0          0   \n",
       "\n",
       "   évaluations  vendeur  nom de la voiture  date  \n",
       "0            0        0                  0     0  "
      ]
     },
     "execution_count": 14,
     "metadata": {},
     "output_type": "execute_result"
    }
   ],
   "source": [
    "df.isnull().sum().to_frame().T"
   ]
  },
  {
   "cell_type": "markdown",
   "metadata": {},
   "source": [
    "Toutes les colonnes sauf Version n’ont aucune valeur \"0\" (ce qui est généralement une bonne chose).\n",
    "\n",
    "Version a 20 valeurs \"0\" → probablement des valeurs manquantes ou non renseignées."
   ]
  },
  {
   "cell_type": "code",
   "execution_count": 12,
   "metadata": {},
   "outputs": [
    {
     "name": "stdout",
     "output_type": "stream",
     "text": [
      "Nombre de valeurs manquantes : 20\n"
     ]
    }
   ],
   "source": [
    "nbre_Na = df.isnull().sum().sum()\n",
    "print(f\"Nombre de valeurs manquantes : {nbre_Na}\")"
   ]
  },
  {
   "cell_type": "markdown",
   "metadata": {},
   "source": [
    "Nous allons donc traiter ces valeurs manquants par la suppression des ces derniers vu qu'ils representent que 0.7 % des données à notre disposition \n",
    "étant la seul colonne et au vu de notre objectif nous allons supprimer la colonne 'Version' (axis = 1)"
   ]
  },
  {
   "cell_type": "code",
   "execution_count": 17,
   "metadata": {},
   "outputs": [
    {
     "name": "stdout",
     "output_type": "stream",
     "text": [
      "dimension après suppression de colonnes : (2680, 9)\n"
     ]
    }
   ],
   "source": [
    "df = df.drop(['date', 'version'], axis=1) \n",
    "print(f\"dimension après suppression de colonnes : {df.shape}\")"
   ]
  },
  {
   "cell_type": "code",
   "execution_count": 19,
   "metadata": {},
   "outputs": [
    {
     "data": {
      "text/plain": [
       "modèle               False\n",
       "prix                 False\n",
       "transmission         False\n",
       "kilométrage          False\n",
       "carburant            False\n",
       "puissance            False\n",
       "évaluations          False\n",
       "vendeur              False\n",
       "nom de la voiture    False\n",
       "dtype: bool"
      ]
     },
     "execution_count": 19,
     "metadata": {},
     "output_type": "execute_result"
    }
   ],
   "source": [
    "df.isnull().any()"
   ]
  },
  {
   "cell_type": "markdown",
   "metadata": {},
   "source": [
    "Plus de Na dans nos données"
   ]
  },
  {
   "cell_type": "code",
   "execution_count": 20,
   "metadata": {},
   "outputs": [
    {
     "data": {
      "text/plain": [
       "array(['€ 74\\u202f999', '€ 118\\u202f900', '€ 59\\u202f995',\n",
       "       '€ 76\\u202f900', '€ 64\\u202f950', '€ 89\\u202f999', '€ 36\\u202f755',\n",
       "       '€ 58\\u202f500', '€ 59\\u202f750', '€ 99\\u202f990', '€ 67\\u202f990',\n",
       "       '€ 62\\u202f950', '€ 85\\u202f995', '€ 87\\u202f560', '€ 64\\u202f995',\n",
       "       '€ 58\\u202f490', '€ 59\\u202f900', '€ 73\\u202f000',\n",
       "       '€ 134\\u202f950', '€ 229\\u202f000', '€ 91\\u202f950',\n",
       "       '€ 288\\u202f990', '€ 222\\u202f204', '€ 94\\u202f950',\n",
       "       '€ 489\\u202f950', '€ 99\\u202f950', '€ 199\\u202f584',\n",
       "       '€ 84\\u202f950', '€ 79\\u202f995', '€ 82\\u202f900', '€ 95\\u202f500',\n",
       "       '€ 114\\u202f995', '€ 92\\u202f900', '€ 149\\u202f900',\n",
       "       '€ 749\\u202f995', '€ 134\\u202f995', '€ 86\\u202f462',\n",
       "       '€ 59\\u202f500', '€ 49\\u202f990', '€ 89\\u202f950', '€ 66\\u202f000',\n",
       "       '€ 52\\u202f990', '€ 54\\u202f950', '€ 39\\u202f990',\n",
       "       '€ 190\\u202f000', '€ 119\\u202f950', '€ 92\\u202f950',\n",
       "       '€ 79\\u202f990', '€ 84\\u202f500', '€ 139\\u202f995',\n",
       "       '€ 73\\u202f900', '€ 77\\u202f085', '€ 96\\u202f500',\n",
       "       '€ 139\\u202f999', '€ 129\\u202f990', '€ 94\\u202f900',\n",
       "       '€ 399\\u202f950', '€ 398\\u202f500', '€ 315\\u202f000',\n",
       "       '€ 204\\u202f900', '€ 529\\u202f900', '€ 254\\u202f000',\n",
       "       '€ 174\\u202f995', '€ 235\\u202f000', '€ 429\\u202f900',\n",
       "       '€ 99\\u202f000', '€ 269\\u202f900', '€ 109\\u202f900',\n",
       "       '€ 224\\u202f500', '€ 309\\u202f500', '€ 312\\u202f588',\n",
       "       '€ 223\\u202f850', '€ 11\\u202f980', '€ 10\\u202f990',\n",
       "       '€ 15\\u202f450', '€ 11\\u202f599', '€ 16\\u202f450', '€ 25\\u202f990',\n",
       "       '€ 13\\u202f800', '€ 15\\u202f500', '€ 6\\u202f599', '€ 9\\u202f500',\n",
       "       '€ 26\\u202f744', '€ 14\\u202f673', '€ 3\\u202f900', '€ 11\\u202f900',\n",
       "       '€ 9\\u202f999', '€ 11\\u202f450', '€ 12\\u202f900', '€ 12\\u202f999',\n",
       "       '€ 115\\u202f900', '€ 299\\u202f999', '€ 259\\u202f900',\n",
       "       '€ 289\\u202f950', '€ 349\\u202f950', '€ 255\\u202f000',\n",
       "       '€ 265\\u202f000', '€ 279\\u202f900', '€ 262\\u202f900',\n",
       "       '€ 165\\u202f000', '€ 300\\u202f000', '€ 275\\u202f000',\n",
       "       '€ 405\\u202f000', '€ 227\\u202f500', '€ 179\\u202f900',\n",
       "       '€ 189\\u202f990', '€ 42\\u202f990', '€ 200\\u202f265',\n",
       "       '€ 302\\u202f190', '€ 52\\u202f900', '€ 41\\u202f999',\n",
       "       '€ 259\\u202f911', '€ 72\\u202f000', '€ 98\\u202f500',\n",
       "       '€ 239\\u202f911', '€ 127\\u202f999', '€ 76\\u202f990',\n",
       "       '€ 108\\u202f999', '€ 44\\u202f900', '€ 79\\u202f900',\n",
       "       '€ 99\\u202f900', '€ 244\\u202f995', '€ 179\\u202f850',\n",
       "       '€ 69\\u202f900', '€ 13\\u202f899', '€ 28\\u202f950', '€ 15\\u202f799',\n",
       "       '€ 27\\u202f450', '€ 22\\u202f199', '€ 33\\u202f990', '€ 60\\u202f900',\n",
       "       '€ 9\\u202f490', '€ 28\\u202f990', '€ 19\\u202f490', '€ 13\\u202f000',\n",
       "       '€ 41\\u202f490', '€ 32\\u202f490', '€ 20\\u202f490', '€ 21\\u202f990',\n",
       "       '€ 38\\u202f490', '€ 35\\u202f990', '€ 24\\u202f500', '€ 11\\u202f495',\n",
       "       '€ 10\\u202f750', '€ 25\\u202f999', '€ 14\\u202f400', '€ 7\\u202f750',\n",
       "       '€ 22\\u202f490', '€ 9\\u202f950', '€ 44\\u202f950', '€ 17\\u202f900',\n",
       "       '€ 16\\u202f749', '€ 20\\u202f399', '€ 15\\u202f890', '€ 27\\u202f899',\n",
       "       '€ 15\\u202f950', '€ 18\\u202f400', '€ 12\\u202f950', '€ 17\\u202f399',\n",
       "       '€ 22\\u202f900', '€ 23\\u202f750', '€ 14\\u202f950', '€ 19\\u202f699',\n",
       "       '€ 17\\u202f495', '€ 6\\u202f800', '€ 23\\u202f499', '€ 13\\u202f450',\n",
       "       '€ 20\\u202f945', '€ 8\\u202f990', '€ 18\\u202f299', '€ 18\\u202f990',\n",
       "       '€ 24\\u202f980', '€ 24\\u202f490', '€ 22\\u202f950', '€ 21\\u202f800',\n",
       "       '€ 16\\u202f699', '€ 79\\u202f999', '€ 106\\u202f900',\n",
       "       '€ 249\\u202f900', '€ 160\\u202f000', '€ 319\\u202f000',\n",
       "       '€ 297\\u202f000', '€ 259\\u202f000', '€ 74\\u202f950',\n",
       "       '€ 254\\u202f888', '€ 239\\u202f580', '€ 39\\u202f999',\n",
       "       '€ 29\\u202f900', '€ 39\\u202f900', '€ 34\\u202f990',\n",
       "       '€ 219\\u202f900', '€ 60\\u202f000', '€ 28\\u202f400',\n",
       "       '€ 45\\u202f890', '€ 13\\u202f950', '€ 32\\u202f995', '€ 26\\u202f250',\n",
       "       '€ 45\\u202f900', '€ 26\\u202f990', '€ 35\\u202f950', '€ 44\\u202f995',\n",
       "       '€ 31\\u202f995', '€ 26\\u202f500', '€ 26\\u202f950', '€ 50\\u202f690',\n",
       "       '€ 55\\u202f900', '€ 34\\u202f950', '€ 18\\u202f890', '€ 5\\u202f990',\n",
       "       '€ 29\\u202f950', '€ 6\\u202f950', '€ 10\\u202f650', '€ 28\\u202f995',\n",
       "       '€ 24\\u202f299', '€ 25\\u202f950', '€ 3\\u202f990', '€ 10\\u202f900',\n",
       "       '€ 16\\u202f299', '€ 14\\u202f699', '€ 43\\u202f200', '€ 16\\u202f995',\n",
       "       '€ 22\\u202f700', '€ 18\\u202f950', '€ 18\\u202f999', '€ 15\\u202f750',\n",
       "       '€ 15\\u202f900', '€ 54\\u202f999', '€ 58\\u202f080', '€ 23\\u202f900',\n",
       "       '€ 22\\u202f000', '€ 260\\u202f486', '€ 61\\u202f710',\n",
       "       '€ 19\\u202f950', '€ 28\\u202f690', '€ 159\\u202f900',\n",
       "       '€ 69\\u202f500', '€ 33\\u202f500', '€ 29\\u202f990',\n",
       "       '€ 189\\u202f000'], dtype=object)"
      ]
     },
     "execution_count": 20,
     "metadata": {},
     "output_type": "execute_result"
    }
   ],
   "source": [
    "df['prix'].unique()"
   ]
  }
 ],
 "metadata": {
  "kernelspec": {
   "display_name": "venv",
   "language": "python",
   "name": "python3"
  },
  "language_info": {
   "codemirror_mode": {
    "name": "ipython",
    "version": 3
   },
   "file_extension": ".py",
   "mimetype": "text/x-python",
   "name": "python",
   "nbconvert_exporter": "python",
   "pygments_lexer": "ipython3",
   "version": "3.13.2"
  }
 },
 "nbformat": 4,
 "nbformat_minor": 2
}
