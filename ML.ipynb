{
 "cells": [
  {
   "cell_type": "markdown",
   "metadata": {},
   "source": [
    "# 📊 Entrainement des modèles et Prédiction des prix des voitures "
   ]
  },
  {
   "cell_type": "code",
   "execution_count": 2,
   "metadata": {},
   "outputs": [],
   "source": [
    "# Librairies\n",
    "\n",
    "\n",
    "import os\n",
    "import joblib\n",
    "import pandas as pd\n",
    "import numpy as np  \n",
    "import seaborn as sns \n",
    "import plotly.express as px\n",
    "import matplotlib.pyplot as plt\n",
    "\n",
    "from pathlib import Path \n",
    "\n",
    "from sklearn.pipeline import Pipeline\n",
    "from sklearn.impute import SimpleImputer\n",
    "from sklearn.model_selection import GridSearchCV\n",
    "from sklearn.ensemble import RandomForestRegressor, GradientBoostingRegressor\n",
    "from sklearn.neighbors import KNeighborsRegressor\n",
    "from sklearn.svm import SVR\n",
    "from sklearn.linear_model import Ridge\n",
    "from sklearn.neural_network import MLPRegressor\n",
    "from sklearn.preprocessing import MinMaxScaler, StandardScaler\n",
    "from sklearn.model_selection import train_test_split\n",
    "from sklearn.metrics import mean_squared_error\n",
    "from sklearn.model_selection import KFold, cross_val_score\n",
    "from scipy.optimize import minimize_scalar\n",
    "from sklearn.metrics import mean_absolute_error, mean_squared_error, r2_score\n",
    "\n",
    "\n",
    "sns.set_theme(style=\"whitegrid\", palette=\"muted\")\n",
    "from matplotlib import rcParams\n",
    "palette = sns.color_palette(\"pastel\")\n",
    "\n",
    "import warnings\n",
    "warnings.filterwarnings(\"ignore\")"
   ]
  },
  {
   "cell_type": "markdown",
   "metadata": {},
   "source": [
    "**Les données**"
   ]
  },
  {
   "cell_type": "code",
   "execution_count": 3,
   "metadata": {},
   "outputs": [
    {
     "data": {
      "text/html": [
       "<div>\n",
       "<style scoped>\n",
       "    .dataframe tbody tr th:only-of-type {\n",
       "        vertical-align: middle;\n",
       "    }\n",
       "\n",
       "    .dataframe tbody tr th {\n",
       "        vertical-align: top;\n",
       "    }\n",
       "\n",
       "    .dataframe thead th {\n",
       "        text-align: right;\n",
       "    }\n",
       "</style>\n",
       "<table border=\"1\" class=\"dataframe\">\n",
       "  <thead>\n",
       "    <tr style=\"text-align: right;\">\n",
       "      <th></th>\n",
       "      <th>Modèle</th>\n",
       "      <th>Prix</th>\n",
       "      <th>Transmission</th>\n",
       "      <th>Version</th>\n",
       "      <th>Kilométrage</th>\n",
       "      <th>Carburant</th>\n",
       "      <th>Puissance</th>\n",
       "      <th>Évaluations</th>\n",
       "      <th>Vendeur</th>\n",
       "      <th>Nom de la Voiture</th>\n",
       "      <th>Date</th>\n",
       "    </tr>\n",
       "  </thead>\n",
       "  <tbody>\n",
       "    <tr>\n",
       "      <th>0</th>\n",
       "      <td>audi</td>\n",
       "      <td>€ 74 999</td>\n",
       "      <td>Boîte automatique</td>\n",
       "      <td>55 TFSI Quattro Tiptronic S-Line INDIVIDUAL!</td>\n",
       "      <td>34 000 km</td>\n",
       "      <td>Essence</td>\n",
       "      <td>250 kW (340 CH)</td>\n",
       "      <td>121</td>\n",
       "      <td>Kristof D'herde • BE-9300 Aalst</td>\n",
       "      <td>Audi Q855 TFSI Quattro Tiptronic S-Line INDIVI...</td>\n",
       "      <td>01/2021</td>\n",
       "    </tr>\n",
       "    <tr>\n",
       "      <th>1</th>\n",
       "      <td>audi</td>\n",
       "      <td>€ 118 900</td>\n",
       "      <td>Boîte automatique</td>\n",
       "      <td>60 Hybride 49 CO2 BlackPack B&amp;O 23' Leather</td>\n",
       "      <td>10 km</td>\n",
       "      <td>Electrique/Essence</td>\n",
       "      <td>340 kW (462 CH)</td>\n",
       "      <td>107</td>\n",
       "      <td>Frederik Rik Maxime Jorn Hendrik • BE-8710 Wie...</td>\n",
       "      <td>Audi Q860 Hybride 49 CO2 BlackPack B&amp;O 23' Lea...</td>\n",
       "      <td>01/2024</td>\n",
       "    </tr>\n",
       "    <tr>\n",
       "      <th>2</th>\n",
       "      <td>audi</td>\n",
       "      <td>€ 118 900</td>\n",
       "      <td>Boîte automatique</td>\n",
       "      <td>60 Hybr 49gr Sline BlackPack B&amp;O Leather 23'</td>\n",
       "      <td>10 km</td>\n",
       "      <td>Electrique/Essence</td>\n",
       "      <td>340 kW (462 CH)</td>\n",
       "      <td>107</td>\n",
       "      <td>Frederik Rik Maxime Jorn Hendrik • BE-8710 Wie...</td>\n",
       "      <td>Audi Q860 Hybr 49gr Sline BlackPack B&amp;O Leathe...</td>\n",
       "      <td>01/2024</td>\n",
       "    </tr>\n",
       "    <tr>\n",
       "      <th>3</th>\n",
       "      <td>audi</td>\n",
       "      <td>€ 59 995</td>\n",
       "      <td>Boîte automatique</td>\n",
       "      <td>50 TDi S-Line Quattro Tiptronic</td>\n",
       "      <td>95 702 km</td>\n",
       "      <td>Diesel</td>\n",
       "      <td>210 kW (286 CH)</td>\n",
       "      <td>75</td>\n",
       "      <td>Mhr Jannick Lazoore • BE-8620 Nieuwpoort</td>\n",
       "      <td>Audi Q850 TDi S-Line Quattro Tiptronic</td>\n",
       "      <td>04/2019</td>\n",
       "    </tr>\n",
       "  </tbody>\n",
       "</table>\n",
       "</div>"
      ],
      "text/plain": [
       "  Modèle       Prix       Transmission  \\\n",
       "0   audi   € 74 999  Boîte automatique   \n",
       "1   audi  € 118 900  Boîte automatique   \n",
       "2   audi  € 118 900  Boîte automatique   \n",
       "3   audi   € 59 995  Boîte automatique   \n",
       "\n",
       "                                        Version Kilométrage  \\\n",
       "0  55 TFSI Quattro Tiptronic S-Line INDIVIDUAL!   34 000 km   \n",
       "1   60 Hybride 49 CO2 BlackPack B&O 23' Leather       10 km   \n",
       "2  60 Hybr 49gr Sline BlackPack B&O Leather 23'       10 km   \n",
       "3               50 TDi S-Line Quattro Tiptronic   95 702 km   \n",
       "\n",
       "            Carburant        Puissance Évaluations  \\\n",
       "0             Essence  250 kW (340 CH)         121   \n",
       "1  Electrique/Essence  340 kW (462 CH)         107   \n",
       "2  Electrique/Essence  340 kW (462 CH)         107   \n",
       "3              Diesel  210 kW (286 CH)          75   \n",
       "\n",
       "                                             Vendeur  \\\n",
       "0                    Kristof D'herde • BE-9300 Aalst   \n",
       "1  Frederik Rik Maxime Jorn Hendrik • BE-8710 Wie...   \n",
       "2  Frederik Rik Maxime Jorn Hendrik • BE-8710 Wie...   \n",
       "3           Mhr Jannick Lazoore • BE-8620 Nieuwpoort   \n",
       "\n",
       "                                   Nom de la Voiture     Date  \n",
       "0  Audi Q855 TFSI Quattro Tiptronic S-Line INDIVI...  01/2021  \n",
       "1  Audi Q860 Hybride 49 CO2 BlackPack B&O 23' Lea...  01/2024  \n",
       "2  Audi Q860 Hybr 49gr Sline BlackPack B&O Leathe...  01/2024  \n",
       "3             Audi Q850 TDi S-Line Quattro Tiptronic  04/2019  "
      ]
     },
     "execution_count": 3,
     "metadata": {},
     "output_type": "execute_result"
    }
   ],
   "source": [
    "BASE_DIR = Path().resolve()\n",
    "DATA_DIR = BASE_DIR / 'Donnees'\n",
    "\n",
    "#print(f\"BASE_DIR: {BASE_DIR}\")\n",
    "#print(f\"DATA_DIR: {DATA_DIR}\")\n",
    "\n",
    "\n",
    "df = pd.read_csv(DATA_DIR / 'vehicules.csv')\n",
    "df.head(4)"
   ]
  },
  {
   "cell_type": "markdown",
   "metadata": {},
   "source": [
    "**Preprocessing des données**"
   ]
  },
  {
   "cell_type": "code",
   "execution_count": 4,
   "metadata": {},
   "outputs": [
    {
     "data": {
      "text/html": [
       "<div>\n",
       "<style scoped>\n",
       "    .dataframe tbody tr th:only-of-type {\n",
       "        vertical-align: middle;\n",
       "    }\n",
       "\n",
       "    .dataframe tbody tr th {\n",
       "        vertical-align: top;\n",
       "    }\n",
       "\n",
       "    .dataframe thead th {\n",
       "        text-align: right;\n",
       "    }\n",
       "</style>\n",
       "<table border=\"1\" class=\"dataframe\">\n",
       "  <thead>\n",
       "    <tr style=\"text-align: right;\">\n",
       "      <th></th>\n",
       "      <th>prix</th>\n",
       "      <th>kilométrage</th>\n",
       "      <th>puissance</th>\n",
       "      <th>évaluations</th>\n",
       "      <th>modèle_Unknown</th>\n",
       "      <th>modèle_audi</th>\n",
       "      <th>modèle_bentley</th>\n",
       "      <th>modèle_ferrari</th>\n",
       "      <th>modèle_fiat</th>\n",
       "      <th>modèle_ford</th>\n",
       "      <th>...</th>\n",
       "      <th>modèle_renault</th>\n",
       "      <th>modèle_toyota</th>\n",
       "      <th>modèle_volkswagen</th>\n",
       "      <th>carburant_Diesel</th>\n",
       "      <th>carburant_Electrique</th>\n",
       "      <th>carburant_Electrique/Diesel</th>\n",
       "      <th>carburant_Electrique/Essence</th>\n",
       "      <th>carburant_Essence</th>\n",
       "      <th>transmission_Boîte automatique</th>\n",
       "      <th>transmission_Boîte manuelle</th>\n",
       "    </tr>\n",
       "  </thead>\n",
       "  <tbody>\n",
       "    <tr>\n",
       "      <th>0</th>\n",
       "      <td>74999.0</td>\n",
       "      <td>34000.0</td>\n",
       "      <td>340.0</td>\n",
       "      <td>121.0</td>\n",
       "      <td>False</td>\n",
       "      <td>True</td>\n",
       "      <td>False</td>\n",
       "      <td>False</td>\n",
       "      <td>False</td>\n",
       "      <td>False</td>\n",
       "      <td>...</td>\n",
       "      <td>False</td>\n",
       "      <td>False</td>\n",
       "      <td>False</td>\n",
       "      <td>False</td>\n",
       "      <td>False</td>\n",
       "      <td>False</td>\n",
       "      <td>False</td>\n",
       "      <td>True</td>\n",
       "      <td>True</td>\n",
       "      <td>False</td>\n",
       "    </tr>\n",
       "    <tr>\n",
       "      <th>1</th>\n",
       "      <td>118900.0</td>\n",
       "      <td>10.0</td>\n",
       "      <td>462.0</td>\n",
       "      <td>107.0</td>\n",
       "      <td>False</td>\n",
       "      <td>True</td>\n",
       "      <td>False</td>\n",
       "      <td>False</td>\n",
       "      <td>False</td>\n",
       "      <td>False</td>\n",
       "      <td>...</td>\n",
       "      <td>False</td>\n",
       "      <td>False</td>\n",
       "      <td>False</td>\n",
       "      <td>False</td>\n",
       "      <td>False</td>\n",
       "      <td>False</td>\n",
       "      <td>True</td>\n",
       "      <td>False</td>\n",
       "      <td>True</td>\n",
       "      <td>False</td>\n",
       "    </tr>\n",
       "    <tr>\n",
       "      <th>2</th>\n",
       "      <td>118900.0</td>\n",
       "      <td>10.0</td>\n",
       "      <td>462.0</td>\n",
       "      <td>107.0</td>\n",
       "      <td>False</td>\n",
       "      <td>True</td>\n",
       "      <td>False</td>\n",
       "      <td>False</td>\n",
       "      <td>False</td>\n",
       "      <td>False</td>\n",
       "      <td>...</td>\n",
       "      <td>False</td>\n",
       "      <td>False</td>\n",
       "      <td>False</td>\n",
       "      <td>False</td>\n",
       "      <td>False</td>\n",
       "      <td>False</td>\n",
       "      <td>True</td>\n",
       "      <td>False</td>\n",
       "      <td>True</td>\n",
       "      <td>False</td>\n",
       "    </tr>\n",
       "    <tr>\n",
       "      <th>3</th>\n",
       "      <td>59995.0</td>\n",
       "      <td>95702.0</td>\n",
       "      <td>286.0</td>\n",
       "      <td>75.0</td>\n",
       "      <td>False</td>\n",
       "      <td>True</td>\n",
       "      <td>False</td>\n",
       "      <td>False</td>\n",
       "      <td>False</td>\n",
       "      <td>False</td>\n",
       "      <td>...</td>\n",
       "      <td>False</td>\n",
       "      <td>False</td>\n",
       "      <td>False</td>\n",
       "      <td>True</td>\n",
       "      <td>False</td>\n",
       "      <td>False</td>\n",
       "      <td>False</td>\n",
       "      <td>False</td>\n",
       "      <td>True</td>\n",
       "      <td>False</td>\n",
       "    </tr>\n",
       "  </tbody>\n",
       "</table>\n",
       "<p>4 rows × 24 columns</p>\n",
       "</div>"
      ],
      "text/plain": [
       "       prix  kilométrage  puissance  évaluations  modèle_Unknown  modèle_audi  \\\n",
       "0   74999.0      34000.0      340.0        121.0           False         True   \n",
       "1  118900.0         10.0      462.0        107.0           False         True   \n",
       "2  118900.0         10.0      462.0        107.0           False         True   \n",
       "3   59995.0      95702.0      286.0         75.0           False         True   \n",
       "\n",
       "   modèle_bentley  modèle_ferrari  modèle_fiat  modèle_ford  ...  \\\n",
       "0           False           False        False        False  ...   \n",
       "1           False           False        False        False  ...   \n",
       "2           False           False        False        False  ...   \n",
       "3           False           False        False        False  ...   \n",
       "\n",
       "   modèle_renault  modèle_toyota  modèle_volkswagen  carburant_Diesel  \\\n",
       "0           False          False              False             False   \n",
       "1           False          False              False             False   \n",
       "2           False          False              False             False   \n",
       "3           False          False              False              True   \n",
       "\n",
       "   carburant_Electrique  carburant_Electrique/Diesel  \\\n",
       "0                 False                        False   \n",
       "1                 False                        False   \n",
       "2                 False                        False   \n",
       "3                 False                        False   \n",
       "\n",
       "   carburant_Electrique/Essence  carburant_Essence  \\\n",
       "0                         False               True   \n",
       "1                          True              False   \n",
       "2                          True              False   \n",
       "3                         False              False   \n",
       "\n",
       "   transmission_Boîte automatique  transmission_Boîte manuelle  \n",
       "0                            True                        False  \n",
       "1                            True                        False  \n",
       "2                            True                        False  \n",
       "3                            True                        False  \n",
       "\n",
       "[4 rows x 24 columns]"
      ]
     },
     "execution_count": 4,
     "metadata": {},
     "output_type": "execute_result"
    }
   ],
   "source": [
    "from cleaning_data.cleaning import clean_preprocess\n",
    "df = clean_preprocess(df)\n",
    "df.head(4)"
   ]
  },
  {
   "cell_type": "code",
   "execution_count": 10,
   "metadata": {},
   "outputs": [],
   "source": [
    "#df.info()"
   ]
  },
  {
   "cell_type": "markdown",
   "metadata": {},
   "source": [
    "dtypes: bool(20), float64(4)\n",
    "\n",
    "**Variables numériques (4)**\n",
    "- prix : float64\n",
    "- kilométrage : float64\n",
    "- puissance : float64\n",
    "- évaluations : float64\n",
    "\n",
    "**Variables catégorielles encodées(20)**\n",
    "- Modèles (13 booléennes) :\n",
    "modèle_audi, modèle_bentley, ..., modèle_volkswagen, etc.\n",
    "\n",
    "modèle_Unknown : sûrement les véhicules où le modèle n’était pas identifié.\n",
    "\n",
    "- Carburants (5 booléennes) :\n",
    "Diesel, Essence, Electrique, ou des combinaisons (Electric/Essence, etc.)\n",
    "\n",
    "- Transmission (2 booléennes) :\n",
    "Boîte automatique / manuelle\n"
   ]
  },
  {
   "cell_type": "code",
   "execution_count": 5,
   "metadata": {},
   "outputs": [
    {
     "name": "stdout",
     "output_type": "stream",
     "text": [
      "la dimension de notre table  est : (2670, 24)\n"
     ]
    }
   ],
   "source": [
    "print(f\"la dimension de notre table  est : {df.shape}\")"
   ]
  },
  {
   "cell_type": "code",
   "execution_count": 6,
   "metadata": {},
   "outputs": [
    {
     "name": "stdout",
     "output_type": "stream",
     "text": [
      "Le nombre de valeurs manquantes : 0\n"
     ]
    }
   ],
   "source": [
    "print(f\"Le nombre de valeurs manquantes : {df.isnull().sum().sum()}\")"
   ]
  },
  {
   "cell_type": "markdown",
   "metadata": {},
   "source": [
    "### I- **Entrainement, tuning et optimisation des paramètres des modèles**"
   ]
  },
  {
   "cell_type": "code",
   "execution_count": 7,
   "metadata": {},
   "outputs": [
    {
     "name": "stdout",
     "output_type": "stream",
     "text": [
      "X_train shape: (2136, 23)\n",
      "y_train shape: (2136,)\n",
      "X_test shape: (534, 23)\n",
      "y_test shape: (534,)\n"
     ]
    }
   ],
   "source": [
    "X = df.drop('prix', axis=1)\n",
    "y = df['prix']\n",
    "X_train, X_test, y_train, y_test = train_test_split(X, y, test_size=0.2, random_state=42)\n",
    "\n",
    "print(f\"X_train shape: {X_train.shape}\")\n",
    "print(f\"y_train shape: {y_train.shape}\")\n",
    "\n",
    "print(f\"X_test shape: {X_test.shape}\")\n",
    "print(f\"y_test shape: {y_test.shape}\")"
   ]
  },
  {
   "cell_type": "code",
   "execution_count": 14,
   "metadata": {},
   "outputs": [],
   "source": [
    "from machine_learning.machine_learn import train_best_models\n",
    "\n",
    "ridge_model, knr_model, svr_model, rfr_model, gbr_model, mlp_model = train_best_models(X_train, y_train)\n"
   ]
  },
  {
   "cell_type": "code",
   "execution_count": 38,
   "metadata": {},
   "outputs": [],
   "source": [
    "# Chargement des modèles sauvegardés \n",
    "\n",
    "def load_all_models(models_dir=\"Modeles\"):\n",
    "    \"\"\"\n",
    "    Charge tous les modèles sauvegardés au format joblib (.pkl) dans un dossier donné.\n",
    "    \n",
    "    Retourne :\n",
    "        dict {nom_du_modele: objet GridSearchCV}\n",
    "    \"\"\"\n",
    "    loaded_models = {}\n",
    "\n",
    "    if not os.path.exists(models_dir):\n",
    "        print(f\"📁 Dossier '{models_dir}' introuvable.\")\n",
    "        return loaded_models\n",
    "\n",
    "    for file in os.listdir(models_dir):\n",
    "        if file.endswith(\"_model.pkl\"):\n",
    "            model_name = file.replace(\"_model.pkl\", \"\")\n",
    "            model_path = os.path.join(models_dir, file)\n",
    "            loaded_models[model_name] = joblib.load(model_path)\n",
    "    \n",
    "    return loaded_models\n",
    "\n",
    "## recuperation des best parametres des models\n",
    "\n",
    "def get_all_best_params(loaded_models: dict):\n",
    "    \"\"\"\n",
    "    Extrait les meilleurs hyperparamètres depuis des objets GridSearchCV.\n",
    "\n",
    "    Paramètres :\n",
    "        loaded_models : dict {nom_du_modele: objet GridSearchCV}\n",
    "\n",
    "    Retourne :\n",
    "        dict {nom_du_modele: dict des meilleurs paramètres}\n",
    "    \"\"\"\n",
    "    best_params_dict = {}\n",
    "\n",
    "    for name, model in loaded_models.items():\n",
    "        if hasattr(model, \"best_params_\"):\n",
    "            best_params_dict[name] = model.best_params_\n",
    "        else:\n",
    "            print(f\"⚠️ Le modèle '{name}' n'a pas d'attribut best_params_.\")\n",
    "    \n",
    "    return best_params_dict\n",
    "\n"
   ]
  },
  {
   "cell_type": "code",
   "execution_count": null,
   "metadata": {},
   "outputs": [],
   "source": [
    "# Chargement des modèles sauvegardés\n",
    "loaded_models = load_all_models()\n",
    "\n",
    "# Extraire les meilleurs paramètres\n",
    "best_params = get_all_best_params(loaded_models)\n"
   ]
  },
  {
   "cell_type": "code",
   "execution_count": 42,
   "metadata": {},
   "outputs": [
    {
     "name": "stdout",
     "output_type": "stream",
     "text": [
      "\n",
      "🔧 GRADIENT_BOOSTING - Best params:\n",
      "  entrainement__learning_rate : 0.5\n",
      "  entrainement__n_estimators : 400\n",
      "  imputation__strategy : mean\n",
      "\n",
      "🔧 KNEIGHBORS - Best params:\n",
      "  entrainement__n_neighbors : 2\n",
      "  imputation__strategy : mean\n",
      "\n",
      "🔧 MLP - Best params:\n",
      "  entrainement__hidden_layer_sizes : (50, 50)\n",
      "  entrainement__max_iter : 1000\n",
      "  imputation__strategy : median\n",
      "\n",
      "🔧 RANDOM_FOREST - Best params:\n",
      "  entrainement__max_features : None\n",
      "  entrainement__n_estimators : 180\n",
      "  imputation__strategy : mean\n",
      "\n",
      "🔧 RIDGE - Best params:\n",
      "  entrainement__alpha : 2\n",
      "  imputation__strategy : mean\n",
      "\n",
      "🔧 SVR - Best params:\n",
      "  entrainement__C : 65536.0\n",
      "  entrainement__epsilon : 0.7\n",
      "  imputation__strategy : mean\n"
     ]
    }
   ],
   "source": [
    "# Afficher les meilleurs paramètres de chaque modèle\n",
    "for name, params in best_params.items():\n",
    "    print(f\"\\n🔧 {name.upper()} - Best params:\")\n",
    "    for k, v in params.items():\n",
    "        print(f\"  {k} : {v}\")"
   ]
  },
  {
   "cell_type": "markdown",
   "metadata": {},
   "source": [
    "### II- Le réentraînement des modèles avec les meilleurs parametres"
   ]
  },
  {
   "cell_type": "code",
   "execution_count": 47,
   "metadata": {},
   "outputs": [],
   "source": [
    "def extract_best_params_dict(gridsearch_models: dict) -> dict:\n",
    "    \"\"\"\n",
    "    Extrait les classes de modèles + meilleurs hyperparamètres depuis GridSearchCV.\n",
    "\n",
    "    Paramètres :\n",
    "        gridsearch_models : dict {nom_modele: GridSearchCV}\n",
    "\n",
    "    Retourne :\n",
    "        dict {nom_modele: {\"model\": class, \"best_params\": dict}}\n",
    "    \"\"\"\n",
    "    models_dict = {}\n",
    "\n",
    "    for name, gridsearch in gridsearch_models.items():\n",
    "        model_class = gridsearch.estimator.named_steps[\"entrainement\"].__class__\n",
    "        best_params = gridsearch.best_params_\n",
    "\n",
    "        models_dict[name] = {\n",
    "            \"model\": model_class,\n",
    "            \"best_params\": best_params\n",
    "        }\n",
    "\n",
    "    return models_dict\n"
   ]
  },
  {
   "cell_type": "code",
   "execution_count": null,
   "metadata": {},
   "outputs": [
    {
     "data": {
      "text/plain": [
       "{'gradient_boosting': {'model': sklearn.ensemble._gb.GradientBoostingRegressor,\n",
       "  'best_params': {'entrainement__learning_rate': 0.5,\n",
       "   'entrainement__n_estimators': 400,\n",
       "   'imputation__strategy': 'mean'}},\n",
       " 'kneighbors': {'model': sklearn.neighbors._regression.KNeighborsRegressor,\n",
       "  'best_params': {'entrainement__n_neighbors': 2,\n",
       "   'imputation__strategy': 'mean'}},\n",
       " 'mlp': {'model': sklearn.neural_network._multilayer_perceptron.MLPRegressor,\n",
       "  'best_params': {'entrainement__hidden_layer_sizes': (50, 50),\n",
       "   'entrainement__max_iter': 1000,\n",
       "   'imputation__strategy': 'median'}},\n",
       " 'random_forest': {'model': sklearn.ensemble._forest.RandomForestRegressor,\n",
       "  'best_params': {'entrainement__max_features': None,\n",
       "   'entrainement__n_estimators': 180,\n",
       "   'imputation__strategy': 'mean'}},\n",
       " 'ridge': {'model': sklearn.linear_model._ridge.Ridge,\n",
       "  'best_params': {'entrainement__alpha': 2, 'imputation__strategy': 'mean'}},\n",
       " 'svr': {'model': sklearn.svm._classes.SVR,\n",
       "  'best_params': {'entrainement__C': np.float64(65536.0),\n",
       "   'entrainement__epsilon': 0.7,\n",
       "   'imputation__strategy': 'mean'}}}"
      ]
     },
     "execution_count": 48,
     "metadata": {},
     "output_type": "execute_result"
    }
   ],
   "source": [
    "# 1. Charger les modèles\n",
    "loaded_models = load_all_models()\n",
    "\n",
    "# 2. Construire un dictionnaire complet avec model + params\n",
    "models_dict = extract_best_params_dict(loaded_models)\n",
    "#models_dict\n"
   ]
  },
  {
   "cell_type": "code",
   "execution_count": null,
   "metadata": {},
   "outputs": [],
   "source": [
    "from machine_learning.selection_train import train_models_with_best_params_models_with_best_params "
   ]
  },
  {
   "cell_type": "code",
   "execution_count": 52,
   "metadata": {},
   "outputs": [
    {
     "ename": "TypeError",
     "evalue": "GradientBoostingRegressor.__init__() got an unexpected keyword argument 'entrainement__learning_rate'",
     "output_type": "error",
     "traceback": [
      "\u001b[31m---------------------------------------------------------------------------\u001b[39m",
      "\u001b[31mTypeError\u001b[39m                                 Traceback (most recent call last)",
      "\u001b[36mCell\u001b[39m\u001b[36m \u001b[39m\u001b[32mIn[52]\u001b[39m\u001b[32m, line 1\u001b[39m\n\u001b[32m----> \u001b[39m\u001b[32m1\u001b[39m trained_models = \u001b[43mtrain_models_with_best_params\u001b[49m\u001b[43m(\u001b[49m\u001b[43mmodels_dict\u001b[49m\u001b[43m,\u001b[49m\u001b[43m \u001b[49m\u001b[43mX_train\u001b[49m\u001b[43m,\u001b[49m\u001b[43m \u001b[49m\u001b[43my_train\u001b[49m\u001b[43m)\u001b[49m\n",
      "\u001b[36mFile \u001b[39m\u001b[32mc:\\Users\\NAZIFOU\\Car-price\\machine_learning\\selection_train.py:32\u001b[39m, in \u001b[36mtrain_models_with_best_params\u001b[39m\u001b[34m(models, X_train, y_train)\u001b[39m\n\u001b[32m     29\u001b[39m \u001b[38;5;66;03m# Enlever les paramètres spécifiques au pipeline\u001b[39;00m\n\u001b[32m     30\u001b[39m model_params.pop(\u001b[33m\"\u001b[39m\u001b[33mimputation__strategy\u001b[39m\u001b[33m\"\u001b[39m, \u001b[38;5;28;01mNone\u001b[39;00m)\n\u001b[32m---> \u001b[39m\u001b[32m32\u001b[39m model = \u001b[43mparams\u001b[49m\u001b[43m[\u001b[49m\u001b[33;43m\"\u001b[39;49m\u001b[33;43mmodel\u001b[39;49m\u001b[33;43m\"\u001b[39;49m\u001b[43m]\u001b[49m\u001b[43m(\u001b[49m\u001b[43m*\u001b[49m\u001b[43m*\u001b[49m\u001b[43mmodel_params\u001b[49m\u001b[43m)\u001b[49m\n\u001b[32m     34\u001b[39m pipeline = Pipeline([\n\u001b[32m     35\u001b[39m     (\u001b[33m\"\u001b[39m\u001b[33mimputation\u001b[39m\u001b[33m\"\u001b[39m, SimpleImputer(strategy=params[\u001b[33m\"\u001b[39m\u001b[33mbest_params\u001b[39m\u001b[33m\"\u001b[39m][\u001b[33m\"\u001b[39m\u001b[33mimputation__strategy\u001b[39m\u001b[33m\"\u001b[39m])),\n\u001b[32m     36\u001b[39m     (\u001b[33m\"\u001b[39m\u001b[33mentrainement\u001b[39m\u001b[33m\"\u001b[39m, model),\n\u001b[32m     37\u001b[39m ])\n\u001b[32m     39\u001b[39m pipeline.fit(X_train, y_train)\n",
      "\u001b[31mTypeError\u001b[39m: GradientBoostingRegressor.__init__() got an unexpected keyword argument 'entrainement__learning_rate'"
     ]
    }
   ],
   "source": [
    "trained_models = train_models_with_best_params(models_dict, X_train, y_train)"
   ]
  },
  {
   "cell_type": "code",
   "execution_count": null,
   "metadata": {},
   "outputs": [],
   "source": []
  },
  {
   "cell_type": "code",
   "execution_count": null,
   "metadata": {},
   "outputs": [],
   "source": []
  }
 ],
 "metadata": {
  "kernelspec": {
   "display_name": "venv",
   "language": "python",
   "name": "python3"
  },
  "language_info": {
   "codemirror_mode": {
    "name": "ipython",
    "version": 3
   },
   "file_extension": ".py",
   "mimetype": "text/x-python",
   "name": "python",
   "nbconvert_exporter": "python",
   "pygments_lexer": "ipython3",
   "version": "3.13.2"
  }
 },
 "nbformat": 4,
 "nbformat_minor": 2
}
