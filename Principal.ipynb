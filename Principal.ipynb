{
 "cells": [
  {
   "cell_type": "markdown",
   "metadata": {},
   "source": [
    "# 📊 Prédiction des prix des voitures "
   ]
  },
  {
   "cell_type": "markdown",
   "metadata": {},
   "source": [
    "L'objectif de ce projet est de réaliser une étude sur le marché des voitures d'occasions afin de déterminer quelles voitures ont des prix inférieurs selon les caractéristiques et de pouvoir réaliser de bonnes affaires sur le marché.\n",
    "\n",
    "Pour ce faire, nous avons réalisé un web scraping du site https://www.autoscout24.be/fr/ nous permettant de récupérer et d'avoir une base de données en .csv pour le machine learning.\n",
    "\n",
    "Nous avons nettoyer la base de données puis réaliser une analyse descriptive pour mieux comprendre les différentes variables.\n",
    "\n",
    "Enfin les données ont été entrainé sur les modèles de MACHINE LEARNING afin de ressortir un modèle les voitures ayant un prix inférieur en dessous du prix prédit pour leurs caractéristiques."
   ]
  },
  {
   "cell_type": "markdown",
   "metadata": {},
   "source": [
    "Notre comporte deux étapes:\n",
    "1.  La collette des données via le `web Scraping` du site `https://www.autoscout24.be/fr/`\n",
    "2.  Le `Machine Learning` des données pour la prédiction du prix de vente `prix`.\n",
    "\n",
    "Scraping\n",
    "Pour le scraping, nous avons utilisé trois (3) fichiers, le fichier scraper_methods.py pour obtenir les contenus des pages HTML, puis le fichier VehicleScraper.py avec la classe VehicleScraper pour extraction des caractéristiques de voitures de chaque annonce et à la fin main.py utilisant VehicleScraper pour le scraping de plusieurs pages et enregistrer sous vehicule.csv."
   ]
  }
 ],
 "metadata": {
  "kernelspec": {
   "display_name": "venv",
   "language": "python",
   "name": "python3"
  },
  "language_info": {
   "codemirror_mode": {
    "name": "ipython",
    "version": 3
   },
   "file_extension": ".py",
   "mimetype": "text/x-python",
   "name": "python",
   "nbconvert_exporter": "python",
   "pygments_lexer": "ipython3",
   "version": "3.13.2"
  }
 },
 "nbformat": 4,
 "nbformat_minor": 2
}
