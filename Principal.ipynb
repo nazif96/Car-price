{
 "cells": [
  {
   "cell_type": "markdown",
   "metadata": {},
   "source": [
    "# 📊 Prédiction des prix des voitures "
   ]
  },
  {
   "cell_type": "markdown",
   "metadata": {},
   "source": [
    "L'objectif de ce projet est de réaliser une étude sur le marché des voitures d'occasions afin de déterminer quelles voitures ont des prix inférieurs selon les caractéristiques et de pouvoir réaliser de bonnes affaires sur le marché.\n",
    "\n",
    "Pour ce faire, nous avons réalisé un web scraping du site https://www.autoscout24.be/fr/ nous permettant de récupérer et d'avoir une base de données en .csv pour le machine learning.\n",
    "\n",
    "Nous avons nettoyer la base de données puis réaliser une analyse descriptive pour mieux comprendre les différentes variables.\n",
    "\n",
    "Enfin les données ont été entrainé sur les modèles de MACHINE LEARNING afin de ressortir un modèle les voitures ayant un prix inférieur en dessous du prix prédit pour leurs caractéristiques."
   ]
  },
  {
   "cell_type": "markdown",
   "metadata": {},
   "source": [
    "Scraping\n",
    "Pour le scraping, nous avons utilisé trois (3) fichiers, le fichier scraper_methods.py pour obtenir les contenus des pages HTML, puis le fichier VehicleScraper.py avec la classe VehicleScraper pour extraction des caractéristiques de voitures de chaque annonce et à la fin main.py utilisant VehicleScraper pour le scraping de plusieurs pages et enregistrer sous vehicule.csv."
   ]
  },
  {
   "cell_type": "markdown",
   "metadata": {},
   "source": [
    "Les librairies"
   ]
  },
  {
   "cell_type": "code",
   "execution_count": 2,
   "metadata": {},
   "outputs": [],
   "source": [
    "import os\n",
    "import pandas as pd\n",
    "import numpy as np  \n",
    "import seaborn as sns \n",
    "import plotly.express as px\n",
    "import matplotlib.pyplot as plt\n",
    "\n",
    "from pathlib import Path \n",
    "\n",
    "from sklearn.pipeline import Pipeline\n",
    "from sklearn.impute import SimpleImputer\n",
    "from sklearn.model_selection import GridSearchCV\n",
    "from sklearn.ensemble import RandomForestRegressor, GradientBoostingRegressor\n",
    "from sklearn.neighbors import KNeighborsRegressor\n",
    "from sklearn.svm import SVR\n",
    "from sklearn.linear_model import Ridge\n",
    "from sklearn.neural_network import MLPRegressor\n",
    "from sklearn.preprocessing import MinMaxScaler, StandardScaler\n",
    "from sklearn.model_selection import train_test_split\n",
    "from sklearn.metrics import mean_squared_error\n",
    "from sklearn.model_selection import KFold, cross_val_score\n",
    "from scipy.optimize import minimize_scalar\n",
    "import joblib\n",
    "\n",
    "\n",
    "sns.set_theme(style=\"whitegrid\", palette=\"muted\")\n",
    "from matplotlib import rcParams\n",
    "palette = sns.color_palette(\"pastel\")\n",
    "\n",
    "import warnings\n",
    "warnings.filterwarnings(\"ignore\")"
   ]
  },
  {
   "cell_type": "markdown",
   "metadata": {},
   "source": [
    "**Les données**  "
   ]
  },
  {
   "cell_type": "code",
   "execution_count": 7,
   "metadata": {},
   "outputs": [
    {
     "data": {
      "text/html": [
       "<div>\n",
       "<style scoped>\n",
       "    .dataframe tbody tr th:only-of-type {\n",
       "        vertical-align: middle;\n",
       "    }\n",
       "\n",
       "    .dataframe tbody tr th {\n",
       "        vertical-align: top;\n",
       "    }\n",
       "\n",
       "    .dataframe thead th {\n",
       "        text-align: right;\n",
       "    }\n",
       "</style>\n",
       "<table border=\"1\" class=\"dataframe\">\n",
       "  <thead>\n",
       "    <tr style=\"text-align: right;\">\n",
       "      <th></th>\n",
       "      <th>Modèle</th>\n",
       "      <th>Prix</th>\n",
       "      <th>Transmission</th>\n",
       "      <th>Version</th>\n",
       "      <th>Kilométrage</th>\n",
       "      <th>Carburant</th>\n",
       "      <th>Puissance</th>\n",
       "      <th>Évaluations</th>\n",
       "      <th>Vendeur</th>\n",
       "      <th>Nom de la Voiture</th>\n",
       "      <th>Date</th>\n",
       "    </tr>\n",
       "  </thead>\n",
       "  <tbody>\n",
       "    <tr>\n",
       "      <th>0</th>\n",
       "      <td>audi</td>\n",
       "      <td>€ 74 999</td>\n",
       "      <td>Boîte automatique</td>\n",
       "      <td>55 TFSI Quattro Tiptronic S-Line INDIVIDUAL!</td>\n",
       "      <td>34 000 km</td>\n",
       "      <td>Essence</td>\n",
       "      <td>250 kW (340 CH)</td>\n",
       "      <td>121</td>\n",
       "      <td>Kristof D'herde • BE-9300 Aalst</td>\n",
       "      <td>Audi Q855 TFSI Quattro Tiptronic S-Line INDIVI...</td>\n",
       "      <td>01/2021</td>\n",
       "    </tr>\n",
       "    <tr>\n",
       "      <th>1</th>\n",
       "      <td>audi</td>\n",
       "      <td>€ 118 900</td>\n",
       "      <td>Boîte automatique</td>\n",
       "      <td>60 Hybride 49 CO2 BlackPack B&amp;O 23' Leather</td>\n",
       "      <td>10 km</td>\n",
       "      <td>Electrique/Essence</td>\n",
       "      <td>340 kW (462 CH)</td>\n",
       "      <td>107</td>\n",
       "      <td>Frederik Rik Maxime Jorn Hendrik • BE-8710 Wie...</td>\n",
       "      <td>Audi Q860 Hybride 49 CO2 BlackPack B&amp;O 23' Lea...</td>\n",
       "      <td>01/2024</td>\n",
       "    </tr>\n",
       "    <tr>\n",
       "      <th>2</th>\n",
       "      <td>audi</td>\n",
       "      <td>€ 118 900</td>\n",
       "      <td>Boîte automatique</td>\n",
       "      <td>60 Hybr 49gr Sline BlackPack B&amp;O Leather 23'</td>\n",
       "      <td>10 km</td>\n",
       "      <td>Electrique/Essence</td>\n",
       "      <td>340 kW (462 CH)</td>\n",
       "      <td>107</td>\n",
       "      <td>Frederik Rik Maxime Jorn Hendrik • BE-8710 Wie...</td>\n",
       "      <td>Audi Q860 Hybr 49gr Sline BlackPack B&amp;O Leathe...</td>\n",
       "      <td>01/2024</td>\n",
       "    </tr>\n",
       "    <tr>\n",
       "      <th>3</th>\n",
       "      <td>audi</td>\n",
       "      <td>€ 59 995</td>\n",
       "      <td>Boîte automatique</td>\n",
       "      <td>50 TDi S-Line Quattro Tiptronic</td>\n",
       "      <td>95 702 km</td>\n",
       "      <td>Diesel</td>\n",
       "      <td>210 kW (286 CH)</td>\n",
       "      <td>75</td>\n",
       "      <td>Mhr Jannick Lazoore • BE-8620 Nieuwpoort</td>\n",
       "      <td>Audi Q850 TDi S-Line Quattro Tiptronic</td>\n",
       "      <td>04/2019</td>\n",
       "    </tr>\n",
       "  </tbody>\n",
       "</table>\n",
       "</div>"
      ],
      "text/plain": [
       "  Modèle       Prix  ...                                  Nom de la Voiture     Date\n",
       "0   audi   € 74 999  ...  Audi Q855 TFSI Quattro Tiptronic S-Line INDIVI...  01/2021\n",
       "1   audi  € 118 900  ...  Audi Q860 Hybride 49 CO2 BlackPack B&O 23' Lea...  01/2024\n",
       "2   audi  € 118 900  ...  Audi Q860 Hybr 49gr Sline BlackPack B&O Leathe...  01/2024\n",
       "3   audi   € 59 995  ...             Audi Q850 TDi S-Line Quattro Tiptronic  04/2019\n",
       "\n",
       "[4 rows x 11 columns]"
      ]
     },
     "execution_count": 7,
     "metadata": {},
     "output_type": "execute_result"
    }
   ],
   "source": [
    "BASE_DIR = Path().resolve()\n",
    "DATA_DIR = BASE_DIR / 'Donnees'\n",
    "\n",
    "#print(f\"BASE_DIR: {BASE_DIR}\")\n",
    "#print(f\"DATA_DIR: {DATA_DIR}\")\n",
    "\n",
    "\n",
    "df = pd.read_csv(DATA_DIR / 'vehicules.csv')\n",
    "df.head(4)"
   ]
  },
  {
   "cell_type": "markdown",
   "metadata": {},
   "source": [
    "**Nettoyage et traitement des données**"
   ]
  },
  {
   "cell_type": "code",
   "execution_count": 8,
   "metadata": {},
   "outputs": [
    {
     "data": {
      "text/html": [
       "<div>\n",
       "<style scoped>\n",
       "    .dataframe tbody tr th:only-of-type {\n",
       "        vertical-align: middle;\n",
       "    }\n",
       "\n",
       "    .dataframe tbody tr th {\n",
       "        vertical-align: top;\n",
       "    }\n",
       "\n",
       "    .dataframe thead th {\n",
       "        text-align: right;\n",
       "    }\n",
       "</style>\n",
       "<table border=\"1\" class=\"dataframe\">\n",
       "  <thead>\n",
       "    <tr style=\"text-align: right;\">\n",
       "      <th></th>\n",
       "      <th>modèle</th>\n",
       "      <th>prix</th>\n",
       "      <th>transmission</th>\n",
       "      <th>kilométrage</th>\n",
       "      <th>carburant</th>\n",
       "      <th>puissance</th>\n",
       "      <th>évaluations</th>\n",
       "    </tr>\n",
       "  </thead>\n",
       "  <tbody>\n",
       "    <tr>\n",
       "      <th>0</th>\n",
       "      <td>audi</td>\n",
       "      <td>74999.0</td>\n",
       "      <td>Boîte automatique</td>\n",
       "      <td>34000.0</td>\n",
       "      <td>Essence</td>\n",
       "      <td>340.0</td>\n",
       "      <td>121.0</td>\n",
       "    </tr>\n",
       "    <tr>\n",
       "      <th>1</th>\n",
       "      <td>audi</td>\n",
       "      <td>118900.0</td>\n",
       "      <td>Boîte automatique</td>\n",
       "      <td>10.0</td>\n",
       "      <td>Electrique/Essence</td>\n",
       "      <td>462.0</td>\n",
       "      <td>107.0</td>\n",
       "    </tr>\n",
       "    <tr>\n",
       "      <th>2</th>\n",
       "      <td>audi</td>\n",
       "      <td>118900.0</td>\n",
       "      <td>Boîte automatique</td>\n",
       "      <td>10.0</td>\n",
       "      <td>Electrique/Essence</td>\n",
       "      <td>462.0</td>\n",
       "      <td>107.0</td>\n",
       "    </tr>\n",
       "    <tr>\n",
       "      <th>3</th>\n",
       "      <td>audi</td>\n",
       "      <td>59995.0</td>\n",
       "      <td>Boîte automatique</td>\n",
       "      <td>95702.0</td>\n",
       "      <td>Diesel</td>\n",
       "      <td>286.0</td>\n",
       "      <td>75.0</td>\n",
       "    </tr>\n",
       "  </tbody>\n",
       "</table>\n",
       "</div>"
      ],
      "text/plain": [
       "  modèle      prix  ... puissance  évaluations\n",
       "0   audi   74999.0  ...     340.0        121.0\n",
       "1   audi  118900.0  ...     462.0        107.0\n",
       "2   audi  118900.0  ...     462.0        107.0\n",
       "3   audi   59995.0  ...     286.0         75.0\n",
       "\n",
       "[4 rows x 7 columns]"
      ]
     },
     "execution_count": 8,
     "metadata": {},
     "output_type": "execute_result"
    }
   ],
   "source": [
    "from cleaning_data.cleaning import nettoie \n",
    "\n",
    "df = nettoie(df)\n",
    "df.head(4)"
   ]
  },
  {
   "cell_type": "code",
   "execution_count": 9,
   "metadata": {},
   "outputs": [
    {
     "name": "stdout",
     "output_type": "stream",
     "text": [
      "la dimension de notre table  est : (2670, 7)\n"
     ]
    }
   ],
   "source": [
    "print(f\"la dimension de notre table  est : {df.shape}\")"
   ]
  },
  {
   "cell_type": "code",
   "execution_count": null,
   "metadata": {},
   "outputs": [],
   "source": [
    "print(f\"Le nombre de valeurs manquantes : {df.isnull().sum().sum()}\")"
   ]
  },
  {
   "cell_type": "markdown",
   "metadata": {},
   "source": [
    "**Statistiques descriptives**"
   ]
  },
  {
   "cell_type": "code",
   "execution_count": 10,
   "metadata": {},
   "outputs": [
    {
     "data": {
      "text/html": [
       "<div>\n",
       "<style scoped>\n",
       "    .dataframe tbody tr th:only-of-type {\n",
       "        vertical-align: middle;\n",
       "    }\n",
       "\n",
       "    .dataframe tbody tr th {\n",
       "        vertical-align: top;\n",
       "    }\n",
       "\n",
       "    .dataframe thead th {\n",
       "        text-align: right;\n",
       "    }\n",
       "</style>\n",
       "<table border=\"1\" class=\"dataframe\">\n",
       "  <thead>\n",
       "    <tr style=\"text-align: right;\">\n",
       "      <th></th>\n",
       "      <th>prix</th>\n",
       "      <th>kilométrage</th>\n",
       "      <th>puissance</th>\n",
       "      <th>évaluations</th>\n",
       "    </tr>\n",
       "  </thead>\n",
       "  <tbody>\n",
       "    <tr>\n",
       "      <th>count</th>\n",
       "      <td>2670.000000</td>\n",
       "      <td>2670.000000</td>\n",
       "      <td>2670.000000</td>\n",
       "      <td>2670.000000</td>\n",
       "    </tr>\n",
       "    <tr>\n",
       "      <th>mean</th>\n",
       "      <td>96578.187266</td>\n",
       "      <td>53196.666667</td>\n",
       "      <td>352.940075</td>\n",
       "      <td>71.760300</td>\n",
       "    </tr>\n",
       "    <tr>\n",
       "      <th>std</th>\n",
       "      <td>110014.952759</td>\n",
       "      <td>44613.449888</td>\n",
       "      <td>222.026120</td>\n",
       "      <td>101.638555</td>\n",
       "    </tr>\n",
       "    <tr>\n",
       "      <th>min</th>\n",
       "      <td>3900.000000</td>\n",
       "      <td>0.000000</td>\n",
       "      <td>69.000000</td>\n",
       "      <td>0.000000</td>\n",
       "    </tr>\n",
       "    <tr>\n",
       "      <th>25%</th>\n",
       "      <td>22000.000000</td>\n",
       "      <td>14500.000000</td>\n",
       "      <td>140.000000</td>\n",
       "      <td>9.000000</td>\n",
       "    </tr>\n",
       "    <tr>\n",
       "      <th>50%</th>\n",
       "      <td>54950.000000</td>\n",
       "      <td>44467.000000</td>\n",
       "      <td>286.000000</td>\n",
       "      <td>38.000000</td>\n",
       "    </tr>\n",
       "    <tr>\n",
       "      <th>75%</th>\n",
       "      <td>119950.000000</td>\n",
       "      <td>89088.000000</td>\n",
       "      <td>581.000000</td>\n",
       "      <td>93.000000</td>\n",
       "    </tr>\n",
       "    <tr>\n",
       "      <th>max</th>\n",
       "      <td>749995.000000</td>\n",
       "      <td>222222.000000</td>\n",
       "      <td>850.000000</td>\n",
       "      <td>671.000000</td>\n",
       "    </tr>\n",
       "  </tbody>\n",
       "</table>\n",
       "</div>"
      ],
      "text/plain": [
       "                prix    kilométrage    puissance  évaluations\n",
       "count    2670.000000    2670.000000  2670.000000  2670.000000\n",
       "mean    96578.187266   53196.666667   352.940075    71.760300\n",
       "std    110014.952759   44613.449888   222.026120   101.638555\n",
       "min      3900.000000       0.000000    69.000000     0.000000\n",
       "25%     22000.000000   14500.000000   140.000000     9.000000\n",
       "50%     54950.000000   44467.000000   286.000000    38.000000\n",
       "75%    119950.000000   89088.000000   581.000000    93.000000\n",
       "max    749995.000000  222222.000000   850.000000   671.000000"
      ]
     },
     "execution_count": 10,
     "metadata": {},
     "output_type": "execute_result"
    }
   ],
   "source": [
    "df.describe()"
   ]
  },
  {
   "cell_type": "markdown",
   "metadata": {},
   "source": [
    "Variable\t| Observations\n",
    "prix\t    | Moyenne ≈ 96 578€, max très élevé à 749 995€, présence de valeurs extrêmes, distribution probablement très asymétrique (positive).\n",
    "kilométrage\t| Large plage (0 à 222k km), médiane ≈ 44k, données probablement asymétriques aussi.\n",
    "puissance\t| Varie de 69 à 850 chevaux, ça va de citadine à supercar.\n",
    "évaluations\t| Distribution fortement déséquilibrée, médiane à 38 mais max à 671 ! Beaucoup de véhicules avec peu d’évaluations."
   ]
  },
  {
   "cell_type": "markdown",
   "metadata": {},
   "source": [
    "L'analyse exploratoire complète des données dans https://github.com/nazif96/Car-price/blob/main/Notebooks/EDA.ipynb."
   ]
  },
  {
   "cell_type": "markdown",
   "metadata": {},
   "source": [
    "## Machine Learning "
   ]
  },
  {
   "cell_type": "markdown",
   "metadata": {},
   "source": [
    "**Preprocessing des données**"
   ]
  },
  {
   "cell_type": "code",
   "execution_count": 11,
   "metadata": {},
   "outputs": [
    {
     "data": {
      "text/html": [
       "<div>\n",
       "<style scoped>\n",
       "    .dataframe tbody tr th:only-of-type {\n",
       "        vertical-align: middle;\n",
       "    }\n",
       "\n",
       "    .dataframe tbody tr th {\n",
       "        vertical-align: top;\n",
       "    }\n",
       "\n",
       "    .dataframe thead th {\n",
       "        text-align: right;\n",
       "    }\n",
       "</style>\n",
       "<table border=\"1\" class=\"dataframe\">\n",
       "  <thead>\n",
       "    <tr style=\"text-align: right;\">\n",
       "      <th></th>\n",
       "      <th>Modèle</th>\n",
       "      <th>Prix</th>\n",
       "      <th>Transmission</th>\n",
       "      <th>Version</th>\n",
       "      <th>Kilométrage</th>\n",
       "      <th>Carburant</th>\n",
       "      <th>Puissance</th>\n",
       "      <th>Évaluations</th>\n",
       "      <th>Vendeur</th>\n",
       "      <th>Nom de la Voiture</th>\n",
       "      <th>Date</th>\n",
       "    </tr>\n",
       "  </thead>\n",
       "  <tbody>\n",
       "    <tr>\n",
       "      <th>0</th>\n",
       "      <td>audi</td>\n",
       "      <td>€ 74 999</td>\n",
       "      <td>Boîte automatique</td>\n",
       "      <td>55 TFSI Quattro Tiptronic S-Line INDIVIDUAL!</td>\n",
       "      <td>34 000 km</td>\n",
       "      <td>Essence</td>\n",
       "      <td>250 kW (340 CH)</td>\n",
       "      <td>121</td>\n",
       "      <td>Kristof D'herde • BE-9300 Aalst</td>\n",
       "      <td>Audi Q855 TFSI Quattro Tiptronic S-Line INDIVI...</td>\n",
       "      <td>01/2021</td>\n",
       "    </tr>\n",
       "    <tr>\n",
       "      <th>1</th>\n",
       "      <td>audi</td>\n",
       "      <td>€ 118 900</td>\n",
       "      <td>Boîte automatique</td>\n",
       "      <td>60 Hybride 49 CO2 BlackPack B&amp;O 23' Leather</td>\n",
       "      <td>10 km</td>\n",
       "      <td>Electrique/Essence</td>\n",
       "      <td>340 kW (462 CH)</td>\n",
       "      <td>107</td>\n",
       "      <td>Frederik Rik Maxime Jorn Hendrik • BE-8710 Wie...</td>\n",
       "      <td>Audi Q860 Hybride 49 CO2 BlackPack B&amp;O 23' Lea...</td>\n",
       "      <td>01/2024</td>\n",
       "    </tr>\n",
       "    <tr>\n",
       "      <th>2</th>\n",
       "      <td>audi</td>\n",
       "      <td>€ 118 900</td>\n",
       "      <td>Boîte automatique</td>\n",
       "      <td>60 Hybr 49gr Sline BlackPack B&amp;O Leather 23'</td>\n",
       "      <td>10 km</td>\n",
       "      <td>Electrique/Essence</td>\n",
       "      <td>340 kW (462 CH)</td>\n",
       "      <td>107</td>\n",
       "      <td>Frederik Rik Maxime Jorn Hendrik • BE-8710 Wie...</td>\n",
       "      <td>Audi Q860 Hybr 49gr Sline BlackPack B&amp;O Leathe...</td>\n",
       "      <td>01/2024</td>\n",
       "    </tr>\n",
       "    <tr>\n",
       "      <th>3</th>\n",
       "      <td>audi</td>\n",
       "      <td>€ 59 995</td>\n",
       "      <td>Boîte automatique</td>\n",
       "      <td>50 TDi S-Line Quattro Tiptronic</td>\n",
       "      <td>95 702 km</td>\n",
       "      <td>Diesel</td>\n",
       "      <td>210 kW (286 CH)</td>\n",
       "      <td>75</td>\n",
       "      <td>Mhr Jannick Lazoore • BE-8620 Nieuwpoort</td>\n",
       "      <td>Audi Q850 TDi S-Line Quattro Tiptronic</td>\n",
       "      <td>04/2019</td>\n",
       "    </tr>\n",
       "  </tbody>\n",
       "</table>\n",
       "</div>"
      ],
      "text/plain": [
       "  Modèle       Prix  ...                                  Nom de la Voiture     Date\n",
       "0   audi   € 74 999  ...  Audi Q855 TFSI Quattro Tiptronic S-Line INDIVI...  01/2021\n",
       "1   audi  € 118 900  ...  Audi Q860 Hybride 49 CO2 BlackPack B&O 23' Lea...  01/2024\n",
       "2   audi  € 118 900  ...  Audi Q860 Hybr 49gr Sline BlackPack B&O Leathe...  01/2024\n",
       "3   audi   € 59 995  ...             Audi Q850 TDi S-Line Quattro Tiptronic  04/2019\n",
       "\n",
       "[4 rows x 11 columns]"
      ]
     },
     "execution_count": 11,
     "metadata": {},
     "output_type": "execute_result"
    }
   ],
   "source": [
    "# les données \n",
    "df = pd.read_csv(DATA_DIR / 'vehicules.csv')\n",
    "df.head(4) "
   ]
  },
  {
   "cell_type": "markdown",
   "metadata": {},
   "source": [
    "**Traitement et nettoyage des données pour l'entrainement**"
   ]
  },
  {
   "cell_type": "code",
   "execution_count": 12,
   "metadata": {},
   "outputs": [
    {
     "data": {
      "text/html": [
       "<div>\n",
       "<style scoped>\n",
       "    .dataframe tbody tr th:only-of-type {\n",
       "        vertical-align: middle;\n",
       "    }\n",
       "\n",
       "    .dataframe tbody tr th {\n",
       "        vertical-align: top;\n",
       "    }\n",
       "\n",
       "    .dataframe thead th {\n",
       "        text-align: right;\n",
       "    }\n",
       "</style>\n",
       "<table border=\"1\" class=\"dataframe\">\n",
       "  <thead>\n",
       "    <tr style=\"text-align: right;\">\n",
       "      <th></th>\n",
       "      <th>prix</th>\n",
       "      <th>kilométrage</th>\n",
       "      <th>puissance</th>\n",
       "      <th>évaluations</th>\n",
       "      <th>modèle_Unknown</th>\n",
       "      <th>modèle_audi</th>\n",
       "      <th>modèle_bentley</th>\n",
       "      <th>modèle_ferrari</th>\n",
       "      <th>modèle_fiat</th>\n",
       "      <th>modèle_ford</th>\n",
       "      <th>modèle_lamborghini</th>\n",
       "      <th>modèle_land-rover</th>\n",
       "      <th>modèle_mercedes-benz</th>\n",
       "      <th>modèle_porsche</th>\n",
       "      <th>modèle_renault</th>\n",
       "      <th>modèle_toyota</th>\n",
       "      <th>modèle_volkswagen</th>\n",
       "      <th>carburant_Diesel</th>\n",
       "      <th>carburant_Electrique</th>\n",
       "      <th>carburant_Electrique/Diesel</th>\n",
       "      <th>carburant_Electrique/Essence</th>\n",
       "      <th>carburant_Essence</th>\n",
       "      <th>transmission_Boîte automatique</th>\n",
       "      <th>transmission_Boîte manuelle</th>\n",
       "    </tr>\n",
       "  </thead>\n",
       "  <tbody>\n",
       "    <tr>\n",
       "      <th>0</th>\n",
       "      <td>74999.0</td>\n",
       "      <td>34000.0</td>\n",
       "      <td>340.0</td>\n",
       "      <td>121.0</td>\n",
       "      <td>False</td>\n",
       "      <td>True</td>\n",
       "      <td>False</td>\n",
       "      <td>False</td>\n",
       "      <td>False</td>\n",
       "      <td>False</td>\n",
       "      <td>False</td>\n",
       "      <td>False</td>\n",
       "      <td>False</td>\n",
       "      <td>False</td>\n",
       "      <td>False</td>\n",
       "      <td>False</td>\n",
       "      <td>False</td>\n",
       "      <td>False</td>\n",
       "      <td>False</td>\n",
       "      <td>False</td>\n",
       "      <td>False</td>\n",
       "      <td>True</td>\n",
       "      <td>True</td>\n",
       "      <td>False</td>\n",
       "    </tr>\n",
       "    <tr>\n",
       "      <th>1</th>\n",
       "      <td>118900.0</td>\n",
       "      <td>10.0</td>\n",
       "      <td>462.0</td>\n",
       "      <td>107.0</td>\n",
       "      <td>False</td>\n",
       "      <td>True</td>\n",
       "      <td>False</td>\n",
       "      <td>False</td>\n",
       "      <td>False</td>\n",
       "      <td>False</td>\n",
       "      <td>False</td>\n",
       "      <td>False</td>\n",
       "      <td>False</td>\n",
       "      <td>False</td>\n",
       "      <td>False</td>\n",
       "      <td>False</td>\n",
       "      <td>False</td>\n",
       "      <td>False</td>\n",
       "      <td>False</td>\n",
       "      <td>False</td>\n",
       "      <td>True</td>\n",
       "      <td>False</td>\n",
       "      <td>True</td>\n",
       "      <td>False</td>\n",
       "    </tr>\n",
       "    <tr>\n",
       "      <th>2</th>\n",
       "      <td>118900.0</td>\n",
       "      <td>10.0</td>\n",
       "      <td>462.0</td>\n",
       "      <td>107.0</td>\n",
       "      <td>False</td>\n",
       "      <td>True</td>\n",
       "      <td>False</td>\n",
       "      <td>False</td>\n",
       "      <td>False</td>\n",
       "      <td>False</td>\n",
       "      <td>False</td>\n",
       "      <td>False</td>\n",
       "      <td>False</td>\n",
       "      <td>False</td>\n",
       "      <td>False</td>\n",
       "      <td>False</td>\n",
       "      <td>False</td>\n",
       "      <td>False</td>\n",
       "      <td>False</td>\n",
       "      <td>False</td>\n",
       "      <td>True</td>\n",
       "      <td>False</td>\n",
       "      <td>True</td>\n",
       "      <td>False</td>\n",
       "    </tr>\n",
       "    <tr>\n",
       "      <th>3</th>\n",
       "      <td>59995.0</td>\n",
       "      <td>95702.0</td>\n",
       "      <td>286.0</td>\n",
       "      <td>75.0</td>\n",
       "      <td>False</td>\n",
       "      <td>True</td>\n",
       "      <td>False</td>\n",
       "      <td>False</td>\n",
       "      <td>False</td>\n",
       "      <td>False</td>\n",
       "      <td>False</td>\n",
       "      <td>False</td>\n",
       "      <td>False</td>\n",
       "      <td>False</td>\n",
       "      <td>False</td>\n",
       "      <td>False</td>\n",
       "      <td>False</td>\n",
       "      <td>True</td>\n",
       "      <td>False</td>\n",
       "      <td>False</td>\n",
       "      <td>False</td>\n",
       "      <td>False</td>\n",
       "      <td>True</td>\n",
       "      <td>False</td>\n",
       "    </tr>\n",
       "  </tbody>\n",
       "</table>\n",
       "</div>"
      ],
      "text/plain": [
       "       prix  ...  transmission_Boîte manuelle\n",
       "0   74999.0  ...                        False\n",
       "1  118900.0  ...                        False\n",
       "2  118900.0  ...                        False\n",
       "3   59995.0  ...                        False\n",
       "\n",
       "[4 rows x 24 columns]"
      ]
     },
     "execution_count": 12,
     "metadata": {},
     "output_type": "execute_result"
    }
   ],
   "source": [
    "from cleaning_data.cleaning import clean_preprocess \n",
    "\n",
    "df = clean_preprocess(df)\n",
    "df.head(4)"
   ]
  },
  {
   "cell_type": "markdown",
   "metadata": {},
   "source": [
    "dtypes: bool(20), float64(4)\n",
    "\n",
    "**Variables numériques (4)**\n",
    "- prix : float64\n",
    "- kilométrage : float64\n",
    "- puissance : float64\n",
    "- évaluations : float64\n",
    "\n",
    "**Variables catégorielles encodées(20)**\n",
    "- Modèles (13 booléennes) :\n",
    "modèle_audi, modèle_bentley, ..., modèle_volkswagen, etc.\n",
    "\n",
    "modèle_Unknown : sûrement les véhicules où le modèle n’était pas identifié.\n",
    "\n",
    "- Carburants (5 booléennes) :\n",
    "Diesel, Essence, Electrique, ou des combinaisons (Electric/Essence, etc.)\n",
    "\n",
    "- Transmission (2 booléennes) :\n",
    "Boîte automatique / manuelle\n"
   ]
  },
  {
   "cell_type": "code",
   "execution_count": 13,
   "metadata": {},
   "outputs": [
    {
     "name": "stdout",
     "output_type": "stream",
     "text": [
      "la dimension de notre table  est : (2670, 24)\n"
     ]
    }
   ],
   "source": [
    "print(f\"la dimension de notre table  est : {df.shape}\")"
   ]
  },
  {
   "cell_type": "code",
   "execution_count": 14,
   "metadata": {},
   "outputs": [
    {
     "name": "stdout",
     "output_type": "stream",
     "text": [
      "Le nombre de valeurs manquantes : 0\n"
     ]
    }
   ],
   "source": [
    "print(f\"Le nombre de valeurs manquantes : {df.isnull().sum().sum()}\")"
   ]
  },
  {
   "cell_type": "markdown",
   "metadata": {},
   "source": [
    "- Les données sont prête pour l'entrainement nous allons proceder au découpage des données en `train` entrainement  et `test` test."
   ]
  },
  {
   "cell_type": "code",
   "execution_count": 20,
   "metadata": {},
   "outputs": [
    {
     "name": "stdout",
     "output_type": "stream",
     "text": [
      "X_train shape: (2136, 23)\n",
      "y_train shape: (2136,)\n",
      "X_test shape: (534, 23)\n",
      "y_test shape: (534,)\n"
     ]
    }
   ],
   "source": [
    "X = df.drop('prix', axis=1)\n",
    "y = df['prix']\n",
    "X_train, X_test, y_train, y_test = train_test_split(X, y, test_size=0.2, random_state=42)\n",
    "\n",
    "print(f\"X_train shape: {X_train.shape}\")\n",
    "print(f\"y_train shape: {y_train.shape}\")\n",
    "\n",
    "print(f\"X_test shape: {X_test.shape}\")\n",
    "print(f\"y_test shape: {y_test.shape}\")"
   ]
  },
  {
   "cell_type": "markdown",
   "metadata": {},
   "source": [
    "- Puis nous allons passer au tuning et optimisation des paramètres des modèles \n",
    "- Récupération des meilleures paramètres de chaque modèles \n",
    "- et enfin on passe à l'entrainement de chaque modèles avec les meilleures paramètres \n",
    "- évaluation des modèles "
   ]
  },
  {
   "cell_type": "code",
   "execution_count": 16,
   "metadata": {},
   "outputs": [
    {
     "data": {
      "text/html": [
       "<div>\n",
       "<style scoped>\n",
       "    .dataframe tbody tr th:only-of-type {\n",
       "        vertical-align: middle;\n",
       "    }\n",
       "\n",
       "    .dataframe tbody tr th {\n",
       "        vertical-align: top;\n",
       "    }\n",
       "\n",
       "    .dataframe thead th {\n",
       "        text-align: right;\n",
       "    }\n",
       "</style>\n",
       "<table border=\"1\" class=\"dataframe\">\n",
       "  <thead>\n",
       "    <tr style=\"text-align: right;\">\n",
       "      <th></th>\n",
       "      <th>Modèle</th>\n",
       "      <th>RMSE</th>\n",
       "      <th>MAE</th>\n",
       "      <th>R²</th>\n",
       "    </tr>\n",
       "  </thead>\n",
       "  <tbody>\n",
       "    <tr>\n",
       "      <th>0</th>\n",
       "      <td>KNEIGHBORS</td>\n",
       "      <td>2555.058506</td>\n",
       "      <td>156.367041</td>\n",
       "      <td>0.999453</td>\n",
       "    </tr>\n",
       "    <tr>\n",
       "      <th>1</th>\n",
       "      <td>GRADIENT_BOOSTING</td>\n",
       "      <td>2555.073206</td>\n",
       "      <td>163.086793</td>\n",
       "      <td>0.999453</td>\n",
       "    </tr>\n",
       "    <tr>\n",
       "      <th>2</th>\n",
       "      <td>RANDOM_FOREST</td>\n",
       "      <td>2562.730116</td>\n",
       "      <td>198.515564</td>\n",
       "      <td>0.999450</td>\n",
       "    </tr>\n",
       "    <tr>\n",
       "      <th>3</th>\n",
       "      <td>MLP</td>\n",
       "      <td>44384.112114</td>\n",
       "      <td>26930.720673</td>\n",
       "      <td>0.835062</td>\n",
       "    </tr>\n",
       "    <tr>\n",
       "      <th>4</th>\n",
       "      <td>RIDGE</td>\n",
       "      <td>51911.117909</td>\n",
       "      <td>33430.086921</td>\n",
       "      <td>0.774375</td>\n",
       "    </tr>\n",
       "    <tr>\n",
       "      <th>5</th>\n",
       "      <td>SVR</td>\n",
       "      <td>94909.890679</td>\n",
       "      <td>65441.245308</td>\n",
       "      <td>0.245796</td>\n",
       "    </tr>\n",
       "  </tbody>\n",
       "</table>\n",
       "</div>"
      ],
      "text/plain": [
       "              Modèle          RMSE           MAE        R²\n",
       "0         KNEIGHBORS   2555.058506    156.367041  0.999453\n",
       "1  GRADIENT_BOOSTING   2555.073206    163.086793  0.999453\n",
       "2      RANDOM_FOREST   2562.730116    198.515564  0.999450\n",
       "3                MLP  44384.112114  26930.720673  0.835062\n",
       "4              RIDGE  51911.117909  33430.086921  0.774375\n",
       "5                SVR  94909.890679  65441.245308  0.245796"
      ]
     },
     "execution_count": 16,
     "metadata": {},
     "output_type": "execute_result"
    }
   ],
   "source": [
    "df_results = pd.read_csv(\"resultats_modeles.csv\")\n",
    "df_results"
   ]
  },
  {
   "cell_type": "code",
   "execution_count": 17,
   "metadata": {},
   "outputs": [
    {
     "data": {
      "image/png": "[encoded data removed]",
      "text/plain": [
       "<Figure size 1000x600 with 1 Axes>"
      ]
     },
     "metadata": {},
     "output_type": "display_data"
    }
   ],
   "source": [
    "# 📊 Visualisation des RMSE\n",
    "plt.figure(figsize=(10, 6))\n",
    "plt.barh(df_results[\"Modèle\"], df_results[\"RMSE\"])\n",
    "plt.xlabel(\"RMSE (erreur quadratique moyenne)\")\n",
    "plt.title(\"Comparaison des performances des modèles\")\n",
    "plt.gca().invert_yaxis()  # Pour que le meilleur modèle soit en haut\n",
    "plt.tight_layout()\n",
    "plt.show()"
   ]
  },
  {
   "cell_type": "markdown",
   "metadata": {},
   "source": [
    "**interprétation** :\n",
    "\n",
    "✅ RMSE (Root Mean Squared Error)\n",
    "Mesure l'erreur moyenne pondérée.\n",
    "\n",
    "Plus c’est petit, mieux c’est.\n",
    "\n",
    "Ici : les 3 premiers modèles(`kneighbors, gradient_boosting, random_forest`) sont très proches (~2555) → performances très similaires.\n",
    "\n",
    "`mlp`  Moins bon : erreur élevée malgré un R² décent \n",
    "\n",
    "`RIDGE` : Performances moyennes, erreurs élevées \n",
    "\n",
    "`SVR` : auvais modèle ici : grosse erreur et R² très faible\n",
    "\n",
    "\n",
    "\n",
    "**KNN a la meilleure MAE, donc très précis.**"
   ]
  },
  {
   "cell_type": "markdown",
   "metadata": {},
   "source": [
    "**Le meilleur modèles**"
   ]
  },
  {
   "cell_type": "code",
   "execution_count": 18,
   "metadata": {},
   "outputs": [],
   "source": [
    "# chargement du meilleur modèle\n",
    "modele_knn = joblib.load(\"meilleur_modele_knn.pkl\")\n"
   ]
  },
  {
   "cell_type": "markdown",
   "metadata": {},
   "source": [
    "**Prédiction** "
   ]
  },
  {
   "cell_type": "code",
   "execution_count": 21,
   "metadata": {},
   "outputs": [
    {
     "name": "stdout",
     "output_type": "stream",
     "text": [
      "💰 Prix prédit : 74999.0 €\n",
      "\n",
      "📊 Voitures similaires trouvées : 10\n",
      "📌 Prix moyen observé : 74999.0 €\n",
      "🔻 Prix minimum : 74999.0 €\n",
      "🔺 Prix maximum : 74999.0 €\n",
      "🔸 Le prix prédit correspond exactement au prix moyen.\n"
     ]
    }
   ],
   "source": [
    "from machine_learning.price_prediction import analyser_prix_prediction \n",
    "\n",
    "\n",
    "voiture_exemple = {\n",
    "    'modèle': 'modèle_audi',\n",
    "    'kilométrage': 34000,\n",
    "    'puissance': 340,\n",
    "    'transmission_Boîte automatique': True\n",
    "}\n",
    "\n",
    "analyser_prix_prediction(\n",
    "    modele=modele_knn,\n",
    "    voiture_exemple=voiture_exemple,\n",
    "    colonnes_reference=X_test.columns,\n",
    "    df=df\n",
    ")\n"
   ]
  },
  {
   "cell_type": "markdown",
   "metadata": {},
   "source": [
    "L'entrainement et le machine learning complète des données dans  https://github.com/nazif96/Car-price/blob/main/Notebooks/ML.ipynb "
   ]
  }
 ],
 "metadata": {
  "kernelspec": {
   "display_name": "venv",
   "language": "python",
   "name": "python3"
  },
  "language_info": {
   "codemirror_mode": {
    "name": "ipython",
    "version": 3
   },
   "file_extension": ".py",
   "mimetype": "text/x-python",
   "name": "python",
   "nbconvert_exporter": "python",
   "pygments_lexer": "ipython3",
   "version": "3.13.2"
  }
 },
 "nbformat": 4,
 "nbformat_minor": 2
}
