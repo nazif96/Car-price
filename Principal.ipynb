{
 "cells": [
  {
   "cell_type": "markdown",
   "metadata": {},
   "source": [
    "# 📊 Prédiction des prix des voitures "
   ]
  },
  {
   "cell_type": "markdown",
   "metadata": {},
   "source": [
    "L'objectif de ce projet est de réaliser une étude sur le marché des voitures d'occasions afin de déterminer quelles voitures ont des prix inférieurs selon les caractéristiques et de pouvoir réaliser de bonnes affaires sur le marché.\n",
    "\n",
    "Pour ce faire, nous avons réalisé un web scraping du site https://www.autoscout24.be/fr/ nous permettant de récupérer et d'avoir une base de données en .csv pour le machine learning.\n",
    "\n",
    "Nous avons nettoyer la base de données puis réaliser une analyse descriptive pour mieux comprendre les différentes variables.\n",
    "\n",
    "Enfin les données ont été entrainé sur les modèles de MACHINE LEARNING afin de ressortir un modèle les voitures ayant un prix inférieur en dessous du prix prédit pour leurs caractéristiques."
   ]
  },
  {
   "cell_type": "markdown",
   "metadata": {},
   "source": [
    "Scraping\n",
    "Pour le scraping, nous avons utilisé trois (3) fichiers, le fichier scraper_methods.py pour obtenir les contenus des pages HTML, puis le fichier VehicleScraper.py avec la classe VehicleScraper pour extraction des caractéristiques de voitures de chaque annonce et à la fin main.py utilisant VehicleScraper pour le scraping de plusieurs pages et enregistrer sous vehicule.csv."
   ]
  },
  {
   "cell_type": "markdown",
   "metadata": {},
   "source": [
    "Les librairies"
   ]
  },
  {
   "cell_type": "code",
   "execution_count": 2,
   "metadata": {},
   "outputs": [],
   "source": [
    "import os\n",
    "import pandas as pd\n",
    "import numpy as np  \n",
    "import seaborn as sns \n",
    "import plotly.express as px\n",
    "import matplotlib.pyplot as plt\n",
    "\n",
    "from pathlib import Path \n",
    "\n",
    "from sklearn.pipeline import Pipeline\n",
    "from sklearn.impute import SimpleImputer\n",
    "from sklearn.model_selection import GridSearchCV\n",
    "from sklearn.ensemble import RandomForestRegressor, GradientBoostingRegressor\n",
    "from sklearn.neighbors import KNeighborsRegressor\n",
    "from sklearn.svm import SVR\n",
    "from sklearn.linear_model import Ridge\n",
    "from sklearn.neural_network import MLPRegressor\n",
    "from sklearn.preprocessing import MinMaxScaler, StandardScaler\n",
    "from sklearn.model_selection import train_test_split\n",
    "from sklearn.metrics import mean_squared_error\n",
    "from sklearn.model_selection import KFold, cross_val_score\n",
    "from scipy.optimize import minimize_scalar\n",
    "import joblib\n",
    "\n",
    "\n",
    "sns.set_theme(style=\"whitegrid\", palette=\"muted\")\n",
    "from matplotlib import rcParams\n",
    "palette = sns.color_palette(\"pastel\")\n",
    "\n",
    "import warnings\n",
    "warnings.filterwarnings(\"ignore\")"
   ]
  },
  {
   "cell_type": "markdown",
   "metadata": {},
   "source": [
    "**Les données**  "
   ]
  },
  {
   "cell_type": "code",
   "execution_count": 11,
   "metadata": {},
   "outputs": [
    {
     "data": {
      "text/html": [
       "<div>\n",
       "<style scoped>\n",
       "    .dataframe tbody tr th:only-of-type {\n",
       "        vertical-align: middle;\n",
       "    }\n",
       "\n",
       "    .dataframe tbody tr th {\n",
       "        vertical-align: top;\n",
       "    }\n",
       "\n",
       "    .dataframe thead th {\n",
       "        text-align: right;\n",
       "    }\n",
       "</style>\n",
       "<table border=\"1\" class=\"dataframe\">\n",
       "  <thead>\n",
       "    <tr style=\"text-align: right;\">\n",
       "      <th></th>\n",
       "      <th>Modèle</th>\n",
       "      <th>Prix</th>\n",
       "      <th>Transmission</th>\n",
       "      <th>Version</th>\n",
       "      <th>Kilométrage</th>\n",
       "      <th>Carburant</th>\n",
       "      <th>Puissance</th>\n",
       "      <th>Évaluations</th>\n",
       "      <th>Vendeur</th>\n",
       "      <th>Nom de la Voiture</th>\n",
       "      <th>Date</th>\n",
       "    </tr>\n",
       "  </thead>\n",
       "  <tbody>\n",
       "    <tr>\n",
       "      <th>0</th>\n",
       "      <td>audi</td>\n",
       "      <td>€ 74 999</td>\n",
       "      <td>Boîte automatique</td>\n",
       "      <td>55 TFSI Quattro Tiptronic S-Line INDIVIDUAL!</td>\n",
       "      <td>34 000 km</td>\n",
       "      <td>Essence</td>\n",
       "      <td>250 kW (340 CH)</td>\n",
       "      <td>121</td>\n",
       "      <td>Kristof D'herde • BE-9300 Aalst</td>\n",
       "      <td>Audi Q855 TFSI Quattro Tiptronic S-Line INDIVI...</td>\n",
       "      <td>01/2021</td>\n",
       "    </tr>\n",
       "    <tr>\n",
       "      <th>1</th>\n",
       "      <td>audi</td>\n",
       "      <td>€ 118 900</td>\n",
       "      <td>Boîte automatique</td>\n",
       "      <td>60 Hybride 49 CO2 BlackPack B&amp;O 23' Leather</td>\n",
       "      <td>10 km</td>\n",
       "      <td>Electrique/Essence</td>\n",
       "      <td>340 kW (462 CH)</td>\n",
       "      <td>107</td>\n",
       "      <td>Frederik Rik Maxime Jorn Hendrik • BE-8710 Wie...</td>\n",
       "      <td>Audi Q860 Hybride 49 CO2 BlackPack B&amp;O 23' Lea...</td>\n",
       "      <td>01/2024</td>\n",
       "    </tr>\n",
       "    <tr>\n",
       "      <th>2</th>\n",
       "      <td>audi</td>\n",
       "      <td>€ 118 900</td>\n",
       "      <td>Boîte automatique</td>\n",
       "      <td>60 Hybr 49gr Sline BlackPack B&amp;O Leather 23'</td>\n",
       "      <td>10 km</td>\n",
       "      <td>Electrique/Essence</td>\n",
       "      <td>340 kW (462 CH)</td>\n",
       "      <td>107</td>\n",
       "      <td>Frederik Rik Maxime Jorn Hendrik • BE-8710 Wie...</td>\n",
       "      <td>Audi Q860 Hybr 49gr Sline BlackPack B&amp;O Leathe...</td>\n",
       "      <td>01/2024</td>\n",
       "    </tr>\n",
       "    <tr>\n",
       "      <th>3</th>\n",
       "      <td>audi</td>\n",
       "      <td>€ 59 995</td>\n",
       "      <td>Boîte automatique</td>\n",
       "      <td>50 TDi S-Line Quattro Tiptronic</td>\n",
       "      <td>95 702 km</td>\n",
       "      <td>Diesel</td>\n",
       "      <td>210 kW (286 CH)</td>\n",
       "      <td>75</td>\n",
       "      <td>Mhr Jannick Lazoore • BE-8620 Nieuwpoort</td>\n",
       "      <td>Audi Q850 TDi S-Line Quattro Tiptronic</td>\n",
       "      <td>04/2019</td>\n",
       "    </tr>\n",
       "  </tbody>\n",
       "</table>\n",
       "</div>"
      ],
      "text/plain": [
       "  Modèle       Prix       Transmission  \\\n",
       "0   audi   € 74 999  Boîte automatique   \n",
       "1   audi  € 118 900  Boîte automatique   \n",
       "2   audi  € 118 900  Boîte automatique   \n",
       "3   audi   € 59 995  Boîte automatique   \n",
       "\n",
       "                                        Version Kilométrage  \\\n",
       "0  55 TFSI Quattro Tiptronic S-Line INDIVIDUAL!   34 000 km   \n",
       "1   60 Hybride 49 CO2 BlackPack B&O 23' Leather       10 km   \n",
       "2  60 Hybr 49gr Sline BlackPack B&O Leather 23'       10 km   \n",
       "3               50 TDi S-Line Quattro Tiptronic   95 702 km   \n",
       "\n",
       "            Carburant        Puissance Évaluations  \\\n",
       "0             Essence  250 kW (340 CH)         121   \n",
       "1  Electrique/Essence  340 kW (462 CH)         107   \n",
       "2  Electrique/Essence  340 kW (462 CH)         107   \n",
       "3              Diesel  210 kW (286 CH)          75   \n",
       "\n",
       "                                             Vendeur  \\\n",
       "0                    Kristof D'herde • BE-9300 Aalst   \n",
       "1  Frederik Rik Maxime Jorn Hendrik • BE-8710 Wie...   \n",
       "2  Frederik Rik Maxime Jorn Hendrik • BE-8710 Wie...   \n",
       "3           Mhr Jannick Lazoore • BE-8620 Nieuwpoort   \n",
       "\n",
       "                                   Nom de la Voiture     Date  \n",
       "0  Audi Q855 TFSI Quattro Tiptronic S-Line INDIVI...  01/2021  \n",
       "1  Audi Q860 Hybride 49 CO2 BlackPack B&O 23' Lea...  01/2024  \n",
       "2  Audi Q860 Hybr 49gr Sline BlackPack B&O Leathe...  01/2024  \n",
       "3             Audi Q850 TDi S-Line Quattro Tiptronic  04/2019  "
      ]
     },
     "execution_count": 11,
     "metadata": {},
     "output_type": "execute_result"
    }
   ],
   "source": [
    "BASE_DIR = Path().resolve()\n",
    "DATA_DIR = BASE_DIR / 'Donnees'\n",
    "\n",
    "#print(f\"BASE_DIR: {BASE_DIR}\")\n",
    "#print(f\"DATA_DIR: {DATA_DIR}\")\n",
    "\n",
    "\n",
    "df = pd.read_csv(DATA_DIR / 'vehicules.csv')\n",
    "df.head(4)"
   ]
  },
  {
   "cell_type": "markdown",
   "metadata": {},
   "source": [
    "**Nettoyage et traitement des données**"
   ]
  },
  {
   "cell_type": "code",
   "execution_count": 12,
   "metadata": {},
   "outputs": [
    {
     "data": {
      "text/html": [
       "<div>\n",
       "<style scoped>\n",
       "    .dataframe tbody tr th:only-of-type {\n",
       "        vertical-align: middle;\n",
       "    }\n",
       "\n",
       "    .dataframe tbody tr th {\n",
       "        vertical-align: top;\n",
       "    }\n",
       "\n",
       "    .dataframe thead th {\n",
       "        text-align: right;\n",
       "    }\n",
       "</style>\n",
       "<table border=\"1\" class=\"dataframe\">\n",
       "  <thead>\n",
       "    <tr style=\"text-align: right;\">\n",
       "      <th></th>\n",
       "      <th>modèle</th>\n",
       "      <th>prix</th>\n",
       "      <th>transmission</th>\n",
       "      <th>kilométrage</th>\n",
       "      <th>carburant</th>\n",
       "      <th>puissance</th>\n",
       "      <th>évaluations</th>\n",
       "    </tr>\n",
       "  </thead>\n",
       "  <tbody>\n",
       "    <tr>\n",
       "      <th>0</th>\n",
       "      <td>audi</td>\n",
       "      <td>74999.0</td>\n",
       "      <td>Boîte automatique</td>\n",
       "      <td>34000.0</td>\n",
       "      <td>Essence</td>\n",
       "      <td>340.0</td>\n",
       "      <td>121.0</td>\n",
       "    </tr>\n",
       "    <tr>\n",
       "      <th>1</th>\n",
       "      <td>audi</td>\n",
       "      <td>118900.0</td>\n",
       "      <td>Boîte automatique</td>\n",
       "      <td>10.0</td>\n",
       "      <td>Electrique/Essence</td>\n",
       "      <td>462.0</td>\n",
       "      <td>107.0</td>\n",
       "    </tr>\n",
       "    <tr>\n",
       "      <th>2</th>\n",
       "      <td>audi</td>\n",
       "      <td>118900.0</td>\n",
       "      <td>Boîte automatique</td>\n",
       "      <td>10.0</td>\n",
       "      <td>Electrique/Essence</td>\n",
       "      <td>462.0</td>\n",
       "      <td>107.0</td>\n",
       "    </tr>\n",
       "    <tr>\n",
       "      <th>3</th>\n",
       "      <td>audi</td>\n",
       "      <td>59995.0</td>\n",
       "      <td>Boîte automatique</td>\n",
       "      <td>95702.0</td>\n",
       "      <td>Diesel</td>\n",
       "      <td>286.0</td>\n",
       "      <td>75.0</td>\n",
       "    </tr>\n",
       "  </tbody>\n",
       "</table>\n",
       "</div>"
      ],
      "text/plain": [
       "  modèle      prix       transmission  kilométrage           carburant  \\\n",
       "0   audi   74999.0  Boîte automatique      34000.0             Essence   \n",
       "1   audi  118900.0  Boîte automatique         10.0  Electrique/Essence   \n",
       "2   audi  118900.0  Boîte automatique         10.0  Electrique/Essence   \n",
       "3   audi   59995.0  Boîte automatique      95702.0              Diesel   \n",
       "\n",
       "   puissance  évaluations  \n",
       "0      340.0        121.0  \n",
       "1      462.0        107.0  \n",
       "2      462.0        107.0  \n",
       "3      286.0         75.0  "
      ]
     },
     "execution_count": 12,
     "metadata": {},
     "output_type": "execute_result"
    }
   ],
   "source": [
    "from cleaning_data.cleaning import nettoie \n",
    "\n",
    "df = nettoie(df)\n",
    "df.head(4)"
   ]
  },
  {
   "cell_type": "code",
   "execution_count": 13,
   "metadata": {},
   "outputs": [
    {
     "name": "stdout",
     "output_type": "stream",
     "text": [
      "la dimension de notre table  est : (2670, 7)\n"
     ]
    }
   ],
   "source": [
    "print(f\"la dimension de notre table  est : {df.shape}\")"
   ]
  },
  {
   "cell_type": "markdown",
   "metadata": {},
   "source": [
    "L'analyse exploratoire complète des données dans https://github.com/nazif96/Car-price/blob/main/Notebooks/EDA.ipynb."
   ]
  },
  {
   "cell_type": "markdown",
   "metadata": {},
   "source": []
  },
  {
   "cell_type": "code",
   "execution_count": null,
   "metadata": {},
   "outputs": [],
   "source": []
  }
 ],
 "metadata": {
  "kernelspec": {
   "display_name": "venv",
   "language": "python",
   "name": "python3"
  },
  "language_info": {
   "codemirror_mode": {
    "name": "ipython",
    "version": 3
   },
   "file_extension": ".py",
   "mimetype": "text/x-python",
   "name": "python",
   "nbconvert_exporter": "python",
   "pygments_lexer": "ipython3",
   "version": "3.13.2"
  }
 },
 "nbformat": 4,
 "nbformat_minor": 2
}
